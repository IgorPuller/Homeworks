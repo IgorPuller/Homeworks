{
 "cells": [
  {
   "cell_type": "markdown",
   "metadata": {
    "id": "chEqqJbLzFew"
   },
   "source": [
    "# Ydata Data Science School\n",
    "## Linear Regression & Regularization Exercise.\n",
    "\n",
    "\n",
    "## Outline\n",
    "In this exercise you will learn the following topics:\n",
    "\n",
    "1. Refresher on how linear regression is solved in batch and in Gradient Descent\n",
    "2. Implementation of Ridge Regression\n",
    "3. Comparing Ridge, Lasso and vanila Linear Regression on a dataset"
   ]
  },
  {
   "cell_type": "markdown",
   "metadata": {
    "id": "mR9UFmk2greT"
   },
   "source": [
    "## Refresher on Ordinary Least Square (OLS) aka Linear Regeression\n",
    "\n",
    "### Lecture Note\n",
    "\n",
    "In Matrix notation, the matrix $X$ is of dimensions $n \\times p$ where each row is an example and each column is a feature dimension.\n",
    "\n",
    "Similarily, $y$ is of dimension $n \\times 1$ and $w$ is of dimensions $p \\times 1$.\n",
    "\n",
    "The model is $\\hat{y}=X\\cdot w$ where we assume for simplicity that $X$'s first columns equals to 1 (one padding), to account for the bias term.\n",
    "\n",
    "Our objective is to optimize the loss $L$ defines as resiudal sum of squares (RSS):\n",
    "\n",
    "$L_{RSS}=\\frac{1}{N}\\left\\Vert Xw-y \\right\\Vert^2$ (notice that in matrix notation this means summing over all examples, so $L$ is scalar.)\n",
    "\n",
    "To find the optimal $w$ one needs to derive the loss with respect to $w$.\n",
    "\n",
    "$\\frac{\\partial{L_{RSS}}}{\\partial{w}}=\\frac{2}{N}X^T(Xw-y)$ (to see why, read about [matrix derivatives](http://www.gatsby.ucl.ac.uk/teaching/courses/sntn/sntn-2017/resources/Matrix_derivatives_cribsheet.pdf) or see class notes )\n",
    "\n",
    "Thus, the gardient descent solution is $w'=w-\\alpha \\frac{2}{N}X^T(Xw-y)$.\n",
    "\n",
    "Solving $\\frac{\\partial{L_{RSS}}}{\\partial{w}}=0$ for $w$ one can also get analytical solution:\n",
    "\n",
    "$w_{OLS}=(X^TX)^{-1}X^Ty$\n",
    "\n",
    "The first term, $(X^TX)^{-1}X^T$ is also called the pseudo inverse of $X$.\n",
    "\n",
    "See [lecture note from Stanford](https://web.stanford.edu/~mrosenfe/soc_meth_proj3/matrix_OLS_NYU_notes.pdf) for more details.\n"
   ]
  },
  {
   "cell_type": "markdown",
   "metadata": {
    "id": "JA3MEKz80vdy"
   },
   "source": [
    "## Exercise 1 - Ordinary Least Square\n",
    "* Get the boston housing dataset by using the scikit-learn package. hint: [load_boston](https://scikit-learn.org/0.15/modules/generated/sklearn.datasets.load_boston.html)\n",
    "\n",
    "* What is $p$? what is $n$ in the above notation? hint: [shape](https://docs.scipy.org/doc/numpy-1.15.0/reference/generated/numpy.ndarray.shape.html)\n",
    "\n",
    "* write a model `OrdinaryLinearRegression` which has a propoery $w$ and 3 methods: `fit`, `predict` and `score` (which returns the MSE on a given sample set). Hint: use [numpy.linalg.pinv](https://docs.scipy.org/doc/numpy-1.15.1/reference/generated/numpy.linalg.pinv.html) to be more efficient.\n",
    "\n",
    "* Fit the model. What is the training MSE?\n",
    "\n",
    "* Plot a scatter plot where on x-axis plot $Y$ and in the y-axis $\\hat{Y}_{OLS}$\n",
    "\n",
    "* Split the data to 75% train and 25% test 20 times. What is the average MSE now for train and test? Hint: use [train_test_split](http://scikit-learn.org/stable/modules/generated/sklearn.model_selection.train_test_split.html) or [ShuffleSplit](http://scikit-learn.org/stable/modules/generated/sklearn.model_selection.ShuffleSplit.html).\n",
    "\n",
    "* Use a t-test to proove that the MSE for training is significantly smaller than for testing. What is the p-value? Hint: use [scipy.stats.ttest_rel](https://docs.scipy.org/doc/scipy-0.14.0/reference/generated/scipy.stats.ttest_rel.html).\n",
    "\n",
    "* Write a new class `OrdinaryLinearRegressionGradientDescent` which inherits from `OrdinaryLinearRegression` and solves the problem using gradinet descent. The class should get as a parameter the learning rate and number of iteration. Plot the class convergance. What is the effect of learning rate? How would you find number of iteration automatically? Note: Gradient Descent does not work well when features are not scaled evenly (why?!). Be sure to normalize your features first.\n",
    "\n",
    "* The following parameters are optional (not mandatory to use):\n",
    "    * early_stop - True / False boolean to indicate to stop running when loss stops decaying and False to continue.\n",
    "    * verbose- True/False boolean to turn on / off logging, e.g. print details like iteration number and loss (https://en.wikipedia.org/wiki/Verbose_mode)\n",
    "    * track_loss - True / False boolean when to save loss results to present later in learning curve graphs"
   ]
  },
  {
   "cell_type": "code",
   "execution_count": 36,
   "metadata": {
    "id": "ZuSS8LhcfZdn"
   },
   "outputs": [],
   "source": [
    "# * write a model `Ols` which has a propoery $w$ and 3 methods: `fit`, `predict` and `score`.? hint: use [numpy.linalg.pinv](https://docs.scipy.org/doc/numpy-1.15.1/reference/generated/numpy.linalg.pinv.html) to be more efficient.\n",
    "import numpy as np\n",
    "import torch\n",
    "\n",
    "class Ols(object):\n",
    "  def __init__(self):\n",
    "    self.w = None\n",
    "\n",
    "  @staticmethod\n",
    "  def pad(X):\n",
    "    n, m = X.shape  \n",
    "    ones = np.ones((n, 1))\n",
    "    return np.concatenate([X, ones], axis=1)\n",
    "\n",
    "  def fit(self, X, Y):\n",
    "   self._fit(X, Y)\n",
    " \n",
    "  def _fit(self, X, Y):\n",
    "    X2 = self.pad(X)\n",
    "    X_transp_dot = np.dot(X2.T, X2)\n",
    "    X_inv = np.linalg.inv(X_transp_dot) \n",
    "    X_inv_X = np.dot(X_inv, X2.T)\n",
    "    result = np.dot(X_inv_X, Y)\n",
    "    self.w = result.flatten()\n",
    "\n",
    "  def predict(self, X):\n",
    "    return self._predict(X)\n",
    " \n",
    "  def _predict(self, X):\n",
    "    coef = np.dot(self.pad(X), self.w)\n",
    "    return coef.flatten()\n",
    "\n",
    "  def score(self, X, Y):\n",
    "    Y_pred = self.predict(X)\n",
    "    MSE = Y - Y_pred\n",
    "    MSE = np.mean(MSE**2)\n",
    "    return MSE"
   ]
  },
  {
   "cell_type": "code",
   "execution_count": 365,
   "metadata": {
    "id": "B689kXfa1eit"
   },
   "outputs": [],
   "source": [
    "# Write a new class OlsGd which solves the problem using gradinet descent.\n",
    "# The class should get as a parameter the learning rate and number of iteration.\n",
    "# Plot the loss convergance. for each alpha, learning rate plot the MSE with respect to number of iterations.\n",
    "# What is the effect of learning rate?\n",
    "# How would you find number of iteration automatically?\n",
    "# Note: Gradient Descent does not work well when features are not scaled evenly (why?!). Be sure to normalize your feature first.\n",
    "class Normalizer():\n",
    "  def __init__(self):\n",
    "    pass\n",
    "\n",
    "  def fit(self, X):\n",
    "    #self.X_min = np.min(X, axis=0)\n",
    "    #self.X_max = np.max(X, axis=0)\n",
    "    self.mean = np.mean(X, axis=0)\n",
    "    self.std = np.std(X, axis=0)\n",
    "    \n",
    "  def predict(self, X):\n",
    "    return (X - self.mean) / self.std\n",
    "    \n",
    "\n",
    "class OlsGd(Ols):\n",
    "\n",
    "  def __init__(self, learning_rate=.05,\n",
    "               num_iteration=1000,\n",
    "               normalize=True,\n",
    "               early_stop=True,\n",
    "               verbose=True):\n",
    "\n",
    "    super(OlsGd, self).__init__()\n",
    "    self.learning_rate = learning_rate\n",
    "    self.num_iteration = num_iteration\n",
    "    self.early_stop = early_stop\n",
    "    self.normalize = normalize\n",
    "    self.normalizer = Normalizer()\n",
    "    self.verbose = verbose\n",
    "\n",
    "  def _fit(self, X, Y, reset=True, track_loss=True):\n",
    "    if self.normalize:\n",
    "        self.normalizer.fit(X)\n",
    "        X_norm = self.normalizer.predict(X)\n",
    "    else:\n",
    "        X_norm = X\n",
    "    X_norm = self.pad(X_norm)\n",
    "\n",
    "    n, m = X_norm.shape\n",
    "    w = np.random.randn(m)*0.01\n",
    "    self.losses = []\n",
    "    for i in range(self.num_iteration):\n",
    "        loss = np.dot(X_norm, w) - Y\n",
    "        w_new = self.learning_rate/n*(np.dot(X_norm.T, loss))\n",
    "        if self.early_stop and np.linalg.norm(w_new - w) < 1e-6:\n",
    "            break\n",
    "        if track_loss:\n",
    "            self.losses.append(loss)\n",
    "        w = w - w_new\n",
    "        if self.verbose:\n",
    "            print(\"Weights: {}, loss: {}\".format(w, loss))\n",
    "    self.w = w\n",
    "\n",
    "\n",
    "  def _predict(self, X):\n",
    "    if self.normalize:\n",
    "        self.normalizer.fit(X)\n",
    "        X_norm = self.normalizer.predict(X)\n",
    "    else:\n",
    "        X_norm = X\n",
    "    coef = np.dot(self.pad(X_norm), self.w)\n",
    "    return coef.flatten()  \n",
    "\n",
    "  def _step(self, X, Y):\n",
    "    # use w update for gradient descent\n",
    "    pass"
   ]
  },
  {
   "cell_type": "code",
   "execution_count": 204,
   "metadata": {},
   "outputs": [
    {
     "data": {
      "text/plain": [
       "(506, 13)"
      ]
     },
     "execution_count": 204,
     "metadata": {},
     "output_type": "execute_result"
    }
   ],
   "source": [
    "import pandas as pd\n",
    "\n",
    "data_url = \"http://lib.stat.cmu.edu/datasets/boston\"\n",
    "raw_df = pd.read_csv(data_url, sep=\"\\s+\", skiprows=22, header=None)\n",
    "data = np.hstack([raw_df.values[::2, :], raw_df.values[1::2, :2]])\n",
    "target = raw_df.values[1::2, 2]\n",
    "data.shape"
   ]
  },
  {
   "cell_type": "code",
   "execution_count": 41,
   "metadata": {},
   "outputs": [
    {
     "data": {
      "text/plain": [
       "21.894831181729206"
      ]
     },
     "execution_count": 41,
     "metadata": {},
     "output_type": "execute_result"
    }
   ],
   "source": [
    "boston_model = Ols()\n",
    "boston_model.fit(data, target)\n",
    "boston_model.w\n",
    "target_pred = boston_model.predict(data)\n",
    "#print(boston_model.Y_pred)\n",
    "boston_model.score(data, target)"
   ]
  },
  {
   "cell_type": "code",
   "execution_count": 42,
   "metadata": {},
   "outputs": [
    {
     "data": {
      "image/png": "[encoded data removed]",
      "text/plain": [
       "<Figure size 640x480 with 1 Axes>"
      ]
     },
     "metadata": {},
     "output_type": "display_data"
    }
   ],
   "source": [
    "import matplotlib.pyplot  as plt\n",
    "\n",
    "plt.scatter(target, target_pred)\n",
    "plt.show()\n"
   ]
  },
  {
   "cell_type": "code",
   "execution_count": 26,
   "metadata": {},
   "outputs": [
    {
     "data": {
      "text/plain": [
       "(21.988933254529364, 22.663321703517536)"
      ]
     },
     "execution_count": 26,
     "metadata": {},
     "output_type": "execute_result"
    }
   ],
   "source": [
    "from sklearn.model_selection import train_test_split\n",
    "\n",
    "MSE_train = []\n",
    "MSE_test = []\n",
    "for i in range(20):\n",
    "    X_train, X_test, y_train, y_test = train_test_split(data, target, test_size=0.25)\n",
    "    boston_model.fit(X_train, y_train)\n",
    "    #boston_model.predict(X_test)\n",
    "    MSE_train.append(boston_model.score(X_train, y_train))\n",
    "    MSE_test.append(boston_model.score(X_test, y_test))\n",
    "\n",
    "np.mean(MSE_train), np.mean(MSE_test)"
   ]
  },
  {
   "cell_type": "code",
   "execution_count": 27,
   "metadata": {},
   "outputs": [
    {
     "data": {
      "text/plain": [
       "0.6409545765239081"
      ]
     },
     "execution_count": 27,
     "metadata": {},
     "output_type": "execute_result"
    }
   ],
   "source": [
    "from scipy.stats import ttest_rel\n",
    "\n",
    "t_stat, p_value = ttest_rel(MSE_train, MSE_test)\n",
    "p_value"
   ]
  },
  {
   "cell_type": "markdown",
   "metadata": {},
   "source": [
    "MSE for the test dataset is not significantly different from the MSE of the training dataset"
   ]
  },
  {
   "cell_type": "code",
   "execution_count": 370,
   "metadata": {},
   "outputs": [
    {
     "data": {
      "text/plain": [
       "21.89608628566295"
      ]
     },
     "execution_count": 370,
     "metadata": {},
     "output_type": "execute_result"
    }
   ],
   "source": [
    "boston_model_OlsGd = OlsGd(verbose=False)\n",
    "boston_model_OlsGd.fit(data, target)\n",
    "boston_model_OlsGd.predict(data)\n",
    "boston_model_OlsGd.score(data, target)"
   ]
  },
  {
   "cell_type": "markdown",
   "metadata": {
    "id": "7HVfnXvZFi98"
   },
   "source": [
    "## Exercise 2 - Ridge Linear Regression\n",
    "\n",
    "Recall that ridge regression is identical to OLS but with a L2 penalty over the weights:\n",
    "\n",
    "$L(y,\\hat{y})=\\sum_{i=1}^{i=N}{(y^{(i)}-\\hat{y}^{(i)})^2} + \\lambda \\left\\Vert w \\right\\Vert_2^2$\n",
    "\n",
    "where $y^{(i)}$ is the **true** value and $\\hat{y}^{(i)}$ is the **predicted** value of the $i_{th}$ example, and $N$ is the number of examples\n",
    "\n",
    "* Show, by differentiating the above loss, that the analytical solution is $w_{Ridge}=(X^TX+\\lambda I)^{-1}X^Ty$\n",
    "* Change `OrdinaryLinearRegression` and `OrdinaryLinearRegressionGradientDescent` classes to work also for ridge regression. Either add a parameter, or use inheritance.\n",
    "* **Bonus: Noise as a regularizer**: Show that OLS (ordinary least square), if one adds multiplicative noise to the features the **average** solution for $W$ is equivalent to Ridge regression. In other words, if $X'= X*G$ where $G$ is an uncorrelated noise with variance $\\sigma$ and mean 1, then solving for $X'$ with OLS is like solving Ridge for $X$. What is the interpretation?\n",
    "\n"
   ]
  },
  {
   "cell_type": "code",
   "execution_count": 372,
   "metadata": {
    "id": "x4v0foNX1eiu"
   },
   "outputs": [],
   "source": [
    "class RidgeLs(Ols):\n",
    "  def __init__(self, ridge_lambda, *wargs, **kwargs):\n",
    "    super(RidgeLs,self).__init__(*wargs, **kwargs)\n",
    "    self.ridge_lambda = ridge_lambda\n",
    "\n",
    "  def _fit(self, X, Y):\n",
    "    X2 = self.pad(X)\n",
    "    I = np.eye(X2.shape[1])\n",
    "    X_transp_dot = np.dot(X2.T, X2) + self.ridge_lambda * I\n",
    "    X_inv = np.linalg.inv(X_transp_dot) \n",
    "    X_inv_X = np.dot(X_inv, X2.T)\n",
    "    result = np.dot(X_inv_X, Y)\n",
    "    self.w = result.flatten()\n"
   ]
  },
  {
   "cell_type": "code",
   "execution_count": 373,
   "metadata": {},
   "outputs": [],
   "source": [
    "X = np.array([[2, 1, 4], [3, 6, 2], [7, 2, 4], [6, 1, 1], [2, 5, 3]])\n",
    "Y = np.array([2, 4, 6, 4, 3])"
   ]
  },
  {
   "cell_type": "code",
   "execution_count": 376,
   "metadata": {},
   "outputs": [
    {
     "data": {
      "text/plain": [
       "array([1.95652174, 3.91304348, 6.        , 4.02173913, 3.10869565])"
      ]
     },
     "execution_count": 376,
     "metadata": {},
     "output_type": "execute_result"
    }
   ],
   "source": [
    "model = RidgeLs(0)\n",
    "model.fit(X, Y)\n",
    "model.predict(X)\n",
    "#model.score(X, Y)\n"
   ]
  },
  {
   "cell_type": "code",
   "execution_count": 379,
   "metadata": {},
   "outputs": [
    {
     "data": {
      "text/plain": [
       "array([1.95652174, 3.91304348, 6.        , 4.02173913, 3.10869565])"
      ]
     },
     "execution_count": 379,
     "metadata": {},
     "output_type": "execute_result"
    }
   ],
   "source": [
    "model = Ols()\n",
    "model.fit(X+2, Y)\n",
    "model.predict(X+2)"
   ]
  },
  {
   "cell_type": "code",
   "execution_count": 459,
   "metadata": {},
   "outputs": [
    {
     "data": {
      "text/plain": [
       "array([-1.66491482e-01,  5.55525598e-02, -1.06827694e-01,  3.72444140e+00,\n",
       "       -1.35339544e+00,  5.54659101e-02, -1.73117837e-03, -1.70621051e-01,\n",
       "       -7.88189966e-02, -1.73055050e-03, -2.78166437e-02,  1.11452965e-03,\n",
       "       -1.87035937e-01,  2.85415675e+01])"
      ]
     },
     "execution_count": 459,
     "metadata": {},
     "output_type": "execute_result"
    }
   ],
   "source": [
    "mean = 1\n",
    "var = 0.5\n",
    "noise = np.random.normal(mean, np.sqrt(var), data.shape)\n",
    "model.fit(data*noise, target)\n",
    "model.w\n",
    "#model.predict(X*noise)"
   ]
  },
  {
   "cell_type": "code",
   "execution_count": 461,
   "metadata": {},
   "outputs": [
    {
     "data": {
      "text/plain": [
       "array([-1.01304345e-01,  4.76876713e-02, -9.35145275e-04,  2.67839879e+00,\n",
       "       -9.53458233e+00,  4.55628720e+00, -4.72229023e-03, -1.25527690e+00,\n",
       "        2.52616327e-01, -1.15821310e-02, -7.25666863e-01,  1.14008233e-02,\n",
       "       -4.91429242e-01,  2.17626552e+01])"
      ]
     },
     "execution_count": 461,
     "metadata": {},
     "output_type": "execute_result"
    }
   ],
   "source": [
    "model_ridge = RidgeLs(0.5)\n",
    "model_ridge.fit(data, target)\n",
    "#model_ridge.predict(data)\n",
    "model_ridge.w"
   ]
  },
  {
   "cell_type": "markdown",
   "metadata": {
    "id": "fAj1Qxoc1eiu"
   },
   "source": [
    "### Use scikitlearn implementation for OLS, Ridge and Lasso"
   ]
  },
  {
   "cell_type": "code",
   "execution_count": null,
   "metadata": {
    "id": "GozQEKRw1eiu"
   },
   "outputs": [],
   "source": []
  }
 ],
 "metadata": {
  "colab": {
   "provenance": []
  },
  "kernelspec": {
   "display_name": "Python 3 (ipykernel)",
   "language": "python",
   "name": "python3"
  },
  "language_info": {
   "codemirror_mode": {
    "name": "ipython",
    "version": 3
   },
   "file_extension": ".py",
   "mimetype": "text/x-python",
   "name": "python",
   "nbconvert_exporter": "python",
   "pygments_lexer": "ipython3",
   "version": "3.11.5"
  }
 },
 "nbformat": 4,
 "nbformat_minor": 4
}
