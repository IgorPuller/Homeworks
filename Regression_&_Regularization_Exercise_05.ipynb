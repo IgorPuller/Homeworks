{
  "cells": [
    {
      "cell_type": "markdown",
      "metadata": {
        "id": "chEqqJbLzFew"
      },
      "source": [
        "# Ydata Data Science School\n",
        "## Linear Regression & Regularization Exercise.\n",
        "\n",
        "\n",
        "## Outline\n",
        "In this exercise you will learn the following topics:\n",
        "\n",
        "1. Refresher on how linear regression is solved in batch and in Gradient Descent\n",
        "2. Implementation of Ridge Regression\n",
        "3. Comparing Ridge, Lasso and vanila Linear Regression on a dataset"
      ]
    },
    {
      "cell_type": "markdown",
      "metadata": {
        "id": "mR9UFmk2greT"
      },
      "source": [
        "## Refresher on Ordinary Least Square (OLS) aka Linear Regeression\n",
        "\n",
        "### Lecture Note\n",
        "\n",
        "In Matrix notation, the matrix $X$ is of dimensions $n \\times p$ where each row is an example and each column is a feature dimension.\n",
        "\n",
        "Similarily, $y$ is of dimension $n \\times 1$ and $w$ is of dimensions $p \\times 1$.\n",
        "\n",
        "The model is $\\hat{y}=X\\cdot w$ where we assume for simplicity that $X$'s first columns equals to 1 (one padding), to account for the bias term.\n",
        "\n",
        "Our objective is to optimize the loss $L$ defines as resiudal sum of squares (RSS):\n",
        "\n",
        "$L_{RSS}=\\frac{1}{N}\\left\\Vert Xw-y \\right\\Vert^2$ (notice that in matrix notation this means summing over all examples, so $L$ is scalar.)\n",
        "\n",
        "To find the optimal $w$ one needs to derive the loss with respect to $w$.\n",
        "\n",
        "$\\frac{\\partial{L_{RSS}}}{\\partial{w}}=\\frac{2}{N}X^T(Xw-y)$ (to see why, read about [matrix derivatives](http://www.gatsby.ucl.ac.uk/teaching/courses/sntn/sntn-2017/resources/Matrix_derivatives_cribsheet.pdf) or see class notes )\n",
        "\n",
        "Thus, the gardient descent solution is $w'=w-\\alpha \\frac{2}{N}X^T(Xw-y)$.\n",
        "\n",
        "Solving $\\frac{\\partial{L_{RSS}}}{\\partial{w}}=0$ for $w$ one can also get analytical solution:\n",
        "\n",
        "$w_{OLS}=(X^TX)^{-1}X^Ty$\n",
        "\n",
        "The first term, $(X^TX)^{-1}X^T$ is also called the pseudo inverse of $X$.\n",
        "\n",
        "See [lecture note from Stanford](https://web.stanford.edu/~mrosenfe/soc_meth_proj3/matrix_OLS_NYU_notes.pdf) for more details.\n"
      ]
    },
    {
      "cell_type": "markdown",
      "metadata": {
        "id": "JA3MEKz80vdy"
      },
      "source": [
        "## Exercise 1 - Ordinary Least Square\n",
        "* Get the boston housing dataset https://www.cs.toronto.edu/~delve/data/boston/bostonDetail.html\n",
        "\n",
        "* What is $p$? what is $n$ in the above notation? hint: [shape](https://docs.scipy.org/doc/numpy-1.15.0/reference/generated/numpy.ndarray.shape.html)\n",
        "\n",
        "* write a model `OrdinaryLinearRegression` which has a propoery $w$ and 3 methods: `fit`, `predict` and `score` (which returns the MSE on a given sample set). Hint: use [numpy.linalg.pinv](https://docs.scipy.org/doc/numpy-1.15.1/reference/generated/numpy.linalg.pinv.html) to be more efficient.\n",
        "\n",
        "* Fit the model. What is the training MSE?\n",
        "\n",
        "* Plot a scatter plot where on x-axis plot $Y$ and in the y-axis $\\hat{Y}_{OLS}$\n",
        "\n",
        "* Split the data to 75% train and 25% test 20 times. What is the average MSE now for train and test? Hint: use [train_test_split](http://scikit-learn.org/stable/modules/generated/sklearn.model_selection.train_test_split.html) or [ShuffleSplit](http://scikit-learn.org/stable/modules/generated/sklearn.model_selection.ShuffleSplit.html).\n",
        "\n",
        "* Use a t-test to proove that the MSE for training is significantly smaller than for testing. What is the p-value? Hint: use [scipy.stats.ttest_rel](https://docs.scipy.org/doc/scipy-0.14.0/reference/generated/scipy.stats.ttest_rel.html).\n",
        "\n",
        "* Write a new class `OrdinaryLinearRegressionGradientDescent` which inherits from `OrdinaryLinearRegression` and solves the problem using gradinet descent. The class should get as a parameter the learning rate and number of iteration. Plot the class convergance. What is the effect of learning rate? How would you find number of iteration automatically? Note: Gradient Descent does not work well when features are not scaled evenly (why?!). Be sure to normalize your features first.\n",
        "\n",
        "* The following parameters are optional (not mandatory to use):\n",
        "    * early_stop - True / False boolean to indicate to stop running when loss stops decaying and False to continue.\n",
        "    * verbose- True/False boolean to turn on / off logging, e.g. print details like iteration number and loss (https://en.wikipedia.org/wiki/Verbose_mode)\n",
        "    * track_loss - True / False boolean when to save loss results to present later in learning curve graphs"
      ]
    },
    {
      "cell_type": "code",
      "execution_count": 4,
      "metadata": {
        "id": "ZuSS8LhcfZdn"
      },
      "outputs": [],
      "source": [
        "# * write a model `Ols` which has a propoery $w$ and 3 methods: `fit`, `predict` and `score`.? hint: use [numpy.linalg.pinv](https://docs.scipy.org/doc/numpy-1.15.1/reference/generated/numpy.linalg.pinv.html) to be more efficient.\n",
        "import numpy as np\n",
        "class Ols(object):\n",
        "  def __init__(self):\n",
        "    self.w = None\n",
        "\n",
        "  @staticmethod\n",
        "  def pad(X):\n",
        "    pass\n",
        "\n",
        "  def fit(self, X, Y):\n",
        "    #remeber pad with 1 before fitting\n",
        "    if X.ndim == 1:\n",
        "      X = np.expand_dims(X,axis=-1)\n",
        "    X = np.pad(array=X, pad_width=((0,0),(1,0)), mode='constant',constant_values=1)\n",
        "    self.w = np.linalg.pinv(X.T@X)@X.T@Y\n",
        "\n",
        "\n",
        "  def _fit(self, X, Y):\n",
        "    # optional to use this\n",
        "    pass\n",
        "\n",
        "  def predict(self, X):\n",
        "    #return wx\n",
        "    if X.ndim == 1:\n",
        "      X = np.expand_dims(X,axis=-1)\n",
        "    X = np.pad(array=X, pad_width=((0,0),(1,0)), mode='constant',constant_values=1)\n",
        "    w = self.w\n",
        "    #w = np.expand_dims(w,axis=-1)\n",
        "    return X@w\n",
        "\n",
        "  def _predict(self, X):\n",
        "    # optional to use this\n",
        "    pass\n",
        "\n",
        "  def score(self, X, Y):\n",
        "    #return MSE\n",
        "    if X.ndim == 1:\n",
        "      X = np.expand_dims(X,axis=-1)\n",
        "    X = np.pad(array=X, pad_width=((0,0),(1,0)), mode='constant',constant_values=1)\n",
        "    n = Y.shape[0]\n",
        "    w = self.w\n",
        "    #w = np.expand_dims(w,axis=-1)\n",
        "    return np.sum((X @ w - Y)**2)/n"
      ]
    },
    {
      "cell_type": "code",
      "source": [
        "import pandas as pd\n",
        "np.random.seed(3788)\n",
        "data = pd.read_csv('/content/Boston-house-price-data.csv')\n",
        "data.head()\n",
        "X = data.iloc[:,:-1]\n",
        "Y = data.iloc[:,-1]"
      ],
      "metadata": {
        "id": "hx3ar6H7N0uW"
      },
      "execution_count": 5,
      "outputs": []
    },
    {
      "cell_type": "code",
      "source": [
        "from sklearn.model_selection import train_test_split\n",
        "X_train, X_test, Y_train, Y_test = train_test_split(X, Y, test_size=0.3, random_state=9876)\n",
        "model = Ols();\n",
        "model.fit(X_train,Y_train);\n",
        "model.predict(X_test);\n",
        "print('MSE on train:',model.score(X_train,Y_train))\n",
        "print('MSE on test:',model.score(X_test,Y_test))\n"
      ],
      "metadata": {
        "colab": {
          "base_uri": "https://localhost:8080/"
        },
        "id": "YvPmt-zjPSgq",
        "outputId": "85324172-d653-4a4b-c139-4f1e60df6b02"
      },
      "execution_count": 6,
      "outputs": [
        {
          "output_type": "stream",
          "name": "stdout",
          "text": [
            "MSE on train: 20.93533439394688\n",
            "MSE on test: 25.457664107890768\n"
          ]
        }
      ]
    },
    {
      "cell_type": "code",
      "source": [
        "import matplotlib.pyplot as plt\n",
        "plt.scatter(Y_test, model.predict(X_test));\n",
        "plt.xlabel('$Y$')\n",
        "plt.ylabel('$\\hat{Y}_{OLS}$');\n"
      ],
      "metadata": {
        "colab": {
          "base_uri": "https://localhost:8080/",
          "height": 449
        },
        "id": "O4eS4JUVdeEn",
        "outputId": "530c51c3-644a-4355-cf9c-7f56b0a453bc"
      },
      "execution_count": 7,
      "outputs": [
        {
          "output_type": "display_data",
          "data": {
            "text/plain": [
              "<Figure size 640x480 with 1 Axes>"
            ],
            "image/png": "[encoded data removed]"
          },
          "metadata": {}
        }
      ]
    },
    {
      "cell_type": "code",
      "source": [
        "mse_train = []\n",
        "mse_test = []\n",
        "for i in range(20):\n",
        "  X_train, X_test, Y_train, Y_test = train_test_split(X, Y, test_size=0.25)\n",
        "  model = Ols();\n",
        "  model.fit(X_train,Y_train);\n",
        "  model.predict(X_test);\n",
        "  mse_train.append(model.score(X_train,Y_train))\n",
        "  mse_test.append(model.score(X_test,Y_test))\n",
        "\n",
        "print('Average MSE on test:',sum(mse_test)/len(mse_test))\n",
        "print('Average MSE on train:',sum(mse_train)/len(mse_train))\n",
        "\n"
      ],
      "metadata": {
        "colab": {
          "base_uri": "https://localhost:8080/"
        },
        "id": "oP2LKhKkeXPR",
        "outputId": "f21c4a7f-3431-427b-8b5b-2deef917eaac"
      },
      "execution_count": 8,
      "outputs": [
        {
          "output_type": "stream",
          "name": "stdout",
          "text": [
            "Average MSE on test: 23.792082346470586\n",
            "Average MSE on train: 21.648569637885444\n"
          ]
        }
      ]
    },
    {
      "cell_type": "markdown",
      "source": [
        "$H_0: MSE_{train} = MSE_{test}$\n",
        "\n",
        "$H_1:MSE_{train} <  MSE_{test}$"
      ],
      "metadata": {
        "id": "D7R1rKLeCh8S"
      }
    },
    {
      "cell_type": "code",
      "source": [
        "from scipy import stats\n",
        "print(stats.ttest_rel(mse_train, mse_test,alternative='less'))"
      ],
      "metadata": {
        "colab": {
          "base_uri": "https://localhost:8080/"
        },
        "id": "xyGF5ldIgWzL",
        "outputId": "bd040319-0c0c-4dc7-b23f-16d7bd4f3dcc"
      },
      "execution_count": 9,
      "outputs": [
        {
          "output_type": "stream",
          "name": "stdout",
          "text": [
            "TtestResult(statistic=-1.432551387057043, pvalue=0.08411726410730833, df=19)\n"
          ]
        }
      ]
    },
    {
      "cell_type": "markdown",
      "source": [
        "P-value = 0.08411726410730833 < 10%. Hense we reject $H_0$."
      ],
      "metadata": {
        "id": "uet2HaErBpZk"
      }
    },
    {
      "cell_type": "code",
      "execution_count": 10,
      "metadata": {
        "id": "B689kXfa1eit"
      },
      "outputs": [],
      "source": [
        "# Write a new class OlsGd which solves the problem using gradinet descent.\n",
        "# The class should get as a parameter the learning rate and number of iteration.\n",
        "# Plot the loss convergance. for each alpha, learning rate plot the MSE with respect to number of iterations.\n",
        "# What is the effect of learning rate?\n",
        "# How would you find number of iteration automatically?\n",
        "# Note: Gradient Descent does not work well when features are not scaled evenly (why?!). Be sure to normalize your feature first.\n",
        "class Normalizer():\n",
        "  def __init__(self):\n",
        "    pass\n",
        "\n",
        "  def fit(self, X):\n",
        "    #self.X_min = X.T.min(axis=1)\n",
        "    #self.X_max = X.T.max(axis=1)\n",
        "    self.X_mean = X.T.mean(axis=1)\n",
        "    self.X_std = X.T.std(axis=1)\n",
        "\n",
        "\n",
        "  def predict(self, X):\n",
        "    #apply normalization\n",
        "    #return (X-self.X_min)/(self.X_max - self.X_min)\n",
        "    return (X-self.X_mean)/self.X_std\n",
        "\n",
        "class OlsGd(Ols):\n",
        "\n",
        "  def __init__(self, learning_rate=.05,\n",
        "               num_iteration=1000,\n",
        "               normalize=True,\n",
        "               early_stop=True,\n",
        "               verbose=True):\n",
        "\n",
        "    super(OlsGd, self).__init__()\n",
        "    self.learning_rate = learning_rate\n",
        "    self.num_iteration = num_iteration\n",
        "    self.early_stop = early_stop\n",
        "    self.normalize = normalize\n",
        "    self.normalizer = Normalizer()\n",
        "    self.verbose = verbose\n",
        "\n",
        "\n",
        "  def _fit(self, X, Y, reset=True, track_loss=True):\n",
        "    #remeber to normalize the data before starting\n",
        "    self.X = X\n",
        "    self.Y = Y\n",
        "    norm_X = Normalizer()\n",
        "    norm_X.fit(X)\n",
        "    X = norm_X.predict(X)\n",
        "    X = np.pad(array=X, pad_width=((0,0),(1,0)), mode='constant',constant_values=1)\n",
        "    n = Y.shape[0]\n",
        "    w = np.random.uniform(-1, 1, (X.shape[1]))\n",
        "    for i in range(self.num_iteration):\n",
        "      grad = 2/n * X.T @ (X @ w - Y)\n",
        "      w = w - self.learning_rate*grad\n",
        "    self.w = w\n",
        "\n",
        "\n",
        "  def _predict(self, X):\n",
        "    #remeber to normalize the data before starting\n",
        "    norm = Normalizer()\n",
        "    norm.fit(self.X)\n",
        "    X = norm.predict(X)\n",
        "    X = np.pad(array=X, pad_width=((0,0),(1,0)), mode='constant',constant_values=1)\n",
        "    w = self.w\n",
        "    w = np.expand_dims(w,axis=-1)\n",
        "    return X@w\n",
        "\n",
        "  def _step(self, X, Y):\n",
        "    # use w update for gradient descent\n",
        "    pass\n",
        "\n"
      ]
    },
    {
      "cell_type": "code",
      "source": [
        "mse_train = []\n",
        "mse_test = []\n",
        "alpha_range = np.arange(0.001,0.061,0.005)\n",
        "for alpha in alpha_range:\n",
        "  #print(\"----------------------------\")\n",
        "  X_train, X_test, Y_train, Y_test = train_test_split(X, Y, test_size=0.25)\n",
        "  model = OlsGd(learning_rate=alpha, num_iteration=100);\n",
        "  model._fit(X_train,Y_train);\n",
        "  model._predict(X_test);\n",
        "  norm = Normalizer()\n",
        "  norm.fit(X_train)\n",
        "  X_train = norm.predict(X_train)\n",
        "  X_test = norm.predict(X_test)\n",
        "  mse_train.append(model.score(X_train,Y_train))\n",
        "  mse_test.append(model.score(X_test,Y_test))\n",
        "  #print('коэфициэнты Градиентного спуска')\n",
        "  #print(model.w)\n",
        "  #print(mse_test)\n",
        "  #print(mse_train)\n",
        "  #norm = Normalizer()\n",
        "  #norm.fit(X_train)\n",
        "  #X_train = norm.predict(X_train)\n",
        "  #model = Ols();\n",
        "  #model.fit(X_train,Y_train);\n",
        "  #model.predict(X_test);\n",
        "  #print('коэфициэнты аналитического решения')\n",
        "  #print(model.w)\n",
        "  #mse_O = model.score(X_train,Y_train)\n",
        "\n",
        "plt.plot(alpha_range,mse_test,color='blue',label='$MSE_{test}$')\n",
        "plt.plot(alpha_range,mse_train,color='green',label='$MSE_{train}$')\n",
        "plt.title('Plot of MSE for different learning rate, num_iteration=100');\n",
        "plt.legend()\n",
        "plt.ylabel('$MSE$')\n",
        "plt.xlabel('$\\\\alpha$ = learning rate');\n",
        "print('Average MSE on test:',sum(mse_test)/len(mse_test))\n",
        "print('Average MSE on train:',sum(mse_train)/len(mse_train))"
      ],
      "metadata": {
        "colab": {
          "base_uri": "https://localhost:8080/",
          "height": 511
        },
        "id": "gkHwrVH_8Up2",
        "outputId": "677d4a40-0155-44ff-eff4-26523a5fce47"
      },
      "execution_count": 11,
      "outputs": [
        {
          "output_type": "stream",
          "name": "stdout",
          "text": [
            "Average MSE on test: 63.59573048594492\n",
            "Average MSE on train: 54.25626635748565\n"
          ]
        },
        {
          "output_type": "display_data",
          "data": {
            "text/plain": [
              "<Figure size 640x480 with 1 Axes>"
            ],
            "image/png": "[encoded data removed]"
          },
          "metadata": {}
        }
      ]
    },
    {
      "cell_type": "markdown",
      "source": [
        "\n",
        "With a small learning rate, gradient descent slowly approach to the correct weights $w$, requiring more iterations to approach to the correct weights $w$. Larger steps approach weights $w$ faster,what requirs fewer iterations"
      ],
      "metadata": {
        "id": "oklAO1g2hFS1"
      }
    },
    {
      "cell_type": "markdown",
      "source": [
        "How would you find number of iteration automatically?\n",
        "\n",
        "\n",
        "At values ​​of n at which the MSE value does not change much\n",
        "\n",
        " Gradient Descent does not work well when features are not scaled evenly (why?!).\n",
        " If features are not scaled so $\\\\w$ also not scaled (It could be $\\\\w_1=10$ and $\\\\w =10^{10}$.It is not neccery that GD will find this minimum of MSE. Also it affects the speed of gradient descent.\n",
        " (Before normalization level lines of MSE are elongated ovals, after it is a round)"
      ],
      "metadata": {
        "id": "voOQwFxyX3zF"
      }
    },
    {
      "cell_type": "markdown",
      "metadata": {
        "id": "7HVfnXvZFi98"
      },
      "source": [
        "## Exercise 2 - Ridge Linear Regression\n",
        "\n",
        "Recall that ridge regression is identical to OLS but with a L2 penalty over the weights:\n",
        "\n",
        "$L(y,\\hat{y})=\\sum_{i=1}^{i=N}{(y^{(i)}-\\hat{y}^{(i)})^2} + \\lambda \\left\\Vert w \\right\\Vert_2^2$\n",
        "\n",
        "where $y^{(i)}$ is the **true** value and $\\hat{y}^{(i)}$ is the **predicted** value of the $i_{th}$ example, and $N$ is the number of examples\n",
        "\n",
        "* Show, by differentiating the above loss, that the analytical solution is $w_{Ridge}=(X^TX+\\lambda I)^{-1}X^Ty$\n",
        "* Change `OrdinaryLinearRegression` and `OrdinaryLinearRegressionGradientDescent` classes to work also for ridge regression. Either add a parameter, or use inheritance.\n",
        "* **Bonus: Noise as a regularizer**: Show that OLS (ordinary least square), if one adds multiplicative noise to the features the **average** solution for $W$ is equivalent to Ridge regression. In other words, if $X'= X*G$ where $G$ is an uncorrelated noise with variance $\\sigma$ and mean 1, then solving for $X'$ with OLS is like solving Ridge for $X$. What is the interpretation?\n",
        "\n"
      ]
    },
    {
      "cell_type": "markdown",
      "source": [
        "$L = (Xw - y)^T(Xw - y) + λw^Tw → min$\n",
        "\n",
        "$∇_w L = X^T(Xw-y) + (Xw-y)^TX + λ(I^Tw + w^TI) = X^TXw-X^Ty + X^T(Xw-y) +λ(I^Tw+I^Tw) =$\n",
        "$= 2X^TXw-2X^Ty+2λI^Tw = 0$\n",
        "\n",
        "$(X^TX+λI^T)w = X^Ty$\n",
        "\n",
        "$w = (X^TX + λI^T)^{-1}X^Ty$\n",
        "\n",
        "$w = (X^TX + λI)^{-1}X^Ty$"
      ],
      "metadata": {
        "id": "joivmdaAFqc6"
      }
    },
    {
      "cell_type": "code",
      "execution_count": 12,
      "metadata": {
        "id": "x4v0foNX1eiu"
      },
      "outputs": [],
      "source": [
        "class RidgeLs(Ols):\n",
        "  def __init__(self, ridge_lambda, *wargs, **kwargs):\n",
        "    super(RidgeLs,self).__init__(*wargs, **kwargs)\n",
        "    self.ridge_lambda = ridge_lambda\n",
        "\n",
        "  def _fit(self, X, Y):\n",
        "    #Closed form of ridge regression\n",
        "    X = np.pad(array=X, pad_width=((0,0),(1,0)), mode='constant',constant_values=1)\n",
        "    self.w = np.linalg.pinv(X.T@X+self.ridge_lambda*np.identity(X.shape[1]))@X.T@Y"
      ]
    },
    {
      "cell_type": "code",
      "source": [
        "model = RidgeLs(ridge_lambda = 1);\n",
        "model._fit(X_train,Y_train);\n",
        "model.predict(X_test);\n",
        "print('MSE on train:',model.score(X_train,Y_train))\n",
        "print('MSE on test:',model.score(X_test,Y_test))\n",
        "model = Ols();\n",
        "model.fit(X_train,Y_train);\n",
        "model.predict(X_test);\n",
        "print('MSE on train:',model.score(X_train,Y_train))\n",
        "print('MSE on test:',model.score(X_test,Y_test))"
      ],
      "metadata": {
        "colab": {
          "base_uri": "https://localhost:8080/"
        },
        "id": "bTkUYLtAkaCe",
        "outputId": "6c97c3c6-1da2-4b97-f350-afe02a75c3b5"
      },
      "execution_count": 13,
      "outputs": [
        {
          "output_type": "stream",
          "name": "stdout",
          "text": [
            "MSE on train: 19.848381446264852\n",
            "MSE on test: 29.079312796520075\n",
            "MSE on train: 19.843189238144642\n",
            "MSE on test: 28.961452046170614\n"
          ]
        }
      ]
    },
    {
      "cell_type": "code",
      "source": [
        "class RidgeLsGd(OlsGd):\n",
        "  def __init__(self, ridge_lambda, *wargs, **kwargs):\n",
        "    super(RidgeLsGd,self).__init__(*wargs, **kwargs)\n",
        "    self.ridge_lambda = ridge_lambda\n",
        "    #self.normalizer = Normalizer()\n",
        "\n",
        "  def _fit(self, X, Y, reset=True, track_loss=True):\n",
        "    #remeber to normalize the data before starting\n",
        "    self.X = X\n",
        "    self.Y = Y\n",
        "    norm_X = Normalizer()\n",
        "    norm_X.fit(X)\n",
        "    X = norm_X.predict(X)\n",
        "    X = np.pad(array=X, pad_width=((0,0),(1,0)), mode='constant',constant_values=1)\n",
        "    p = X.shape[1]\n",
        "    n = X.shape[0]\n",
        "    w = np.random.uniform(-1, 1, (X.shape[1]))\n",
        "    for i in range(self.num_iteration):\n",
        "      grad = 2/n * ((X.T @ X + self.ridge_lambda * np.identity(p))@w - X.T@Y)\n",
        "      w = w - self.learning_rate*grad\n",
        "    self.w = w"
      ],
      "metadata": {
        "id": "0mdRGf3TkxMX"
      },
      "execution_count": 14,
      "outputs": []
    },
    {
      "cell_type": "code",
      "source": [
        "model = RidgeLsGd(ridge_lambda = 0,learning_rate=0.05, num_iteration=100);\n",
        "model._fit(X_train,Y_train);\n",
        "model.predict(X_test);\n",
        "print('MSE on train:',model.score(X_train,Y_train))\n",
        "print('MSE on test:',model.score(X_test,Y_test))\n",
        "model = OlsGd(learning_rate=0.05, num_iteration=100);\n",
        "model._fit(X_train,Y_train);\n",
        "model.predict(X_test);\n",
        "print('MSE on train:',model.score(X_train,Y_train))\n",
        "print('MSE on test:',model.score(X_test,Y_test))"
      ],
      "metadata": {
        "colab": {
          "base_uri": "https://localhost:8080/"
        },
        "id": "io0FAf9Vm1f2",
        "outputId": "1c5c6a6e-a850-41c8-fbde-86fd9f7d48f4"
      },
      "execution_count": 15,
      "outputs": [
        {
          "output_type": "stream",
          "name": "stdout",
          "text": [
            "MSE on train: 20.041499044825322\n",
            "MSE on test: 28.85713306330024\n",
            "MSE on train: 20.09276431405829\n",
            "MSE on test: 28.955653787503685\n"
          ]
        }
      ]
    },
    {
      "cell_type": "markdown",
      "metadata": {
        "id": "fAj1Qxoc1eiu"
      },
      "source": [
        "### Use scikitlearn implementation for OLS, Ridge and Lasso"
      ]
    },
    {
      "cell_type": "code",
      "source": [
        "from sklearn.linear_model import LinearRegression\n",
        "reg = LinearRegression().fit(X_train, Y_train)\n",
        "coef = [reg.intercept_]\n",
        "coef.extend(reg.coef_)\n",
        "norm = Normalizer()\n",
        "norm.fit(X_train)\n",
        "X_train = norm.predict(X_train)\n",
        "model = Ols();\n",
        "model.fit(X_train,Y_train);\n",
        "coef =np.array([coef, model.w])\n",
        "print('Coeffitients of OLS method using scikitlearn and OUR Functions')\n",
        "print(coef.T)\n",
        "\n"
      ],
      "metadata": {
        "colab": {
          "base_uri": "https://localhost:8080/"
        },
        "id": "Ohw11mD_r4NL",
        "outputId": "e2f0e88d-3a5a-4324-c74d-d21faa057010"
      },
      "execution_count": 16,
      "outputs": [
        {
          "output_type": "stream",
          "name": "stdout",
          "text": [
            "Coeffitients of OLS method using scikitlearn and OUR Functions\n",
            "[[ 2.20749340e+01  2.20749340e+01]\n",
            " [-9.64370143e-01 -9.64370143e-01]\n",
            " [ 1.17046883e+00  1.17046883e+00]\n",
            " [ 1.73111787e-01  1.73111787e-01]\n",
            " [ 7.03193604e-01  7.03193604e-01]\n",
            " [-2.40499976e+00 -2.40499976e+00]\n",
            " [ 2.51792797e+00  2.51792797e+00]\n",
            " [ 1.99484125e-02  1.99484125e-02]\n",
            " [-3.13224603e+00 -3.13224603e+00]\n",
            " [ 2.53941986e+00  2.53941986e+00]\n",
            " [-2.23525749e+00 -2.23525749e+00]\n",
            " [-2.08005429e+00 -2.08005429e+00]\n",
            " [ 7.28105587e-01  7.28105587e-01]\n",
            " [-3.40310239e+00 -3.40310239e+00]]\n"
          ]
        }
      ]
    },
    {
      "cell_type": "code",
      "execution_count": 17,
      "metadata": {
        "id": "GozQEKRw1eiu",
        "colab": {
          "base_uri": "https://localhost:8080/"
        },
        "outputId": "0d05cf23-9544-406a-a6fb-1ca19d997d22"
      },
      "outputs": [
        {
          "output_type": "stream",
          "name": "stdout",
          "text": [
            "Coeffitients of OLS method using scikitlearn and OUR Functions\n",
            "[[ 2.20749340e+01  2.20168421e+01]\n",
            " [-9.53508317e-01 -9.53508317e-01]\n",
            " [ 1.14966328e+00  1.14966328e+00]\n",
            " [ 1.43825629e-01  1.43825629e-01]\n",
            " [ 7.06170174e-01  7.06170174e-01]\n",
            " [-2.36578423e+00 -2.36578423e+00]\n",
            " [ 2.52946268e+00  2.52946268e+00]\n",
            " [ 1.20720329e-02  1.20720329e-02]\n",
            " [-3.09650735e+00 -3.09650735e+00]\n",
            " [ 2.44815182e+00  2.44815182e+00]\n",
            " [-2.15160576e+00 -2.15160576e+00]\n",
            " [-2.06934339e+00 -2.06934339e+00]\n",
            " [ 7.28456178e-01  7.28456178e-01]\n",
            " [-3.38752526e+00 -3.38752526e+00]]\n"
          ]
        }
      ],
      "source": [
        "from sklearn.linear_model import Ridge\n",
        "clf = Ridge(alpha=1.0)\n",
        "clf.fit(X_train, Y_train)\n",
        "coef = [clf.intercept_]\n",
        "coef.extend(clf.coef_)\n",
        "model = RidgeLs(ridge_lambda = 1.0);\n",
        "model._fit(X_train,Y_train);\n",
        "coef =np.array([coef, model.w])\n",
        "print('Coeffitients of OLS method using scikitlearn and OUR Functions')\n",
        "print(coef.T)"
      ]
    },
    {
      "cell_type": "code",
      "source": [
        "from sklearn import linear_model\n",
        "clf = linear_model.Lasso(alpha=0.1)\n",
        "clf.fit(X_train,Y_train)\n",
        "coef = [clf.intercept_]\n",
        "coef.extend(clf.coef_)\n",
        "coef"
      ],
      "metadata": {
        "colab": {
          "base_uri": "https://localhost:8080/"
        },
        "id": "c_nzG5NZrAwL",
        "outputId": "505742fc-5e51-450c-9b9a-1d2a2a041738"
      },
      "execution_count": 18,
      "outputs": [
        {
          "output_type": "execute_result",
          "data": {
            "text/plain": [
              "[22.074934036939315,\n",
              " -0.6837954300676169,\n",
              " 0.7921799422128356,\n",
              " -0.0,\n",
              " 0.6673785964737973,\n",
              " -1.9122567357546587,\n",
              " 2.6834469706529527,\n",
              " -0.0,\n",
              " -2.4912221414570452,\n",
              " 1.0853460321518502,\n",
              " -1.0252458540396565,\n",
              " -1.9429999151651651,\n",
              " 0.6466443084453605,\n",
              " -3.3621385973905635]"
            ]
          },
          "metadata": {},
          "execution_count": 18
        }
      ]
    },
    {
      "cell_type": "code",
      "source": [],
      "metadata": {
        "id": "_KPuhjICwEfF"
      },
      "execution_count": 18,
      "outputs": []
    }
  ],
  "metadata": {
    "colab": {
      "provenance": []
    },
    "kernelspec": {
      "display_name": "Python 3",
      "language": "python",
      "name": "python3"
    },
    "language_info": {
      "codemirror_mode": {
        "name": "ipython",
        "version": 3
      },
      "file_extension": ".py",
      "mimetype": "text/x-python",
      "name": "python",
      "nbconvert_exporter": "python",
      "pygments_lexer": "ipython3",
      "version": "3.7.3"
    }
  },
  "nbformat": 4,
  "nbformat_minor": 0
}