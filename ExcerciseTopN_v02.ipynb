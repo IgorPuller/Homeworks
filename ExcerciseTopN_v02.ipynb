{
 "cells": [
  {
   "cell_type": "markdown",
   "metadata": {
    "colab_type": "text",
    "id": "RDcN431I5zC0"
   },
   "source": [
    "# Item-Item Top-N Recommendations"
   ]
  },
  {
   "cell_type": "markdown",
   "metadata": {
    "colab_type": "text",
    "id": "MiDyphhp5zC6"
   },
   "source": [
    "In this excercise we will implement a simple top-N recommender, evaluate the algorithms, and then call algorithms from the Surprise package. In top-N recommendations the algorithm is requested to produce a list of N items that the user will be interested in. \n",
    "In this particular execercise we will work with an escape room dataset.\n",
    "\n",
    "First, let's load the dataset, which is already split by time into a training set and a test set:"
   ]
  },
  {
   "cell_type": "code",
   "execution_count": 1,
   "metadata": {
    "colab": {},
    "colab_type": "code",
    "id": "CN1l4x4S5zC-"
   },
   "outputs": [
    {
     "name": "stderr",
     "output_type": "stream",
     "text": [
      "C:\\Users\\manni\\AppData\\Local\\Temp\\ipykernel_57260\\1068745715.py:5: UserWarning: Could not infer format, so each element will be parsed individually, falling back to `dateutil`. To ensure parsing is consistent and as-expected, please specify a format.\n",
      "  train_set = pd.read_csv(train_set_path, parse_dates=[3], index_col='index')\n",
      "C:\\Users\\manni\\AppData\\Local\\Temp\\ipykernel_57260\\1068745715.py:6: UserWarning: Could not infer format, so each element will be parsed individually, falling back to `dateutil`. To ensure parsing is consistent and as-expected, please specify a format.\n",
      "  test_set = pd.read_csv(test_set_path, parse_dates=[3], index_col='index')\n"
     ]
    }
   ],
   "source": [
    "import pandas as pd\n",
    "train_set_path = 'resources//train_numerized_with_anon.csv'\n",
    "test_set_path = 'resources//test_numerized_with_anon.csv'\n",
    "\n",
    "train_set = pd.read_csv(train_set_path, parse_dates=[3], index_col='index')\n",
    "test_set = pd.read_csv(test_set_path, parse_dates=[3], index_col='index')\n",
    "\n",
    "users_in_train = train_set.userID.unique()\n",
    "test_set = test_set[test_set.userID.isin(users_in_train)]"
   ]
  },
  {
   "cell_type": "markdown",
   "metadata": {
    "colab_type": "text",
    "id": "Uou6h0U75zDP"
   },
   "source": [
    "We can take a look at the structure of the dataset:"
   ]
  },
  {
   "cell_type": "code",
   "execution_count": 2,
   "metadata": {
    "colab": {},
    "colab_type": "code",
    "id": "mD4Io9UA5zDT",
    "outputId": "8015e618-1b9b-4cc5-a37d-366d3d3e80bf"
   },
   "outputs": [
    {
     "data": {
      "text/html": [
       "<div>\n",
       "<style scoped>\n",
       "    .dataframe tbody tr th:only-of-type {\n",
       "        vertical-align: middle;\n",
       "    }\n",
       "\n",
       "    .dataframe tbody tr th {\n",
       "        vertical-align: top;\n",
       "    }\n",
       "\n",
       "    .dataframe thead th {\n",
       "        text-align: right;\n",
       "    }\n",
       "</style>\n",
       "<table border=\"1\" class=\"dataframe\">\n",
       "  <thead>\n",
       "    <tr style=\"text-align: right;\">\n",
       "      <th></th>\n",
       "      <th>userID</th>\n",
       "      <th>itemID</th>\n",
       "      <th>rating</th>\n",
       "      <th>timestamp</th>\n",
       "    </tr>\n",
       "    <tr>\n",
       "      <th>index</th>\n",
       "      <th></th>\n",
       "      <th></th>\n",
       "      <th></th>\n",
       "      <th></th>\n",
       "    </tr>\n",
       "  </thead>\n",
       "  <tbody>\n",
       "    <tr>\n",
       "      <th>0</th>\n",
       "      <td>0</td>\n",
       "      <td>0</td>\n",
       "      <td>10</td>\n",
       "      <td>11/11/2015</td>\n",
       "    </tr>\n",
       "    <tr>\n",
       "      <th>1</th>\n",
       "      <td>1</td>\n",
       "      <td>0</td>\n",
       "      <td>10</td>\n",
       "      <td>11/11/2015</td>\n",
       "    </tr>\n",
       "    <tr>\n",
       "      <th>2</th>\n",
       "      <td>2</td>\n",
       "      <td>0</td>\n",
       "      <td>8</td>\n",
       "      <td>11/11/2015</td>\n",
       "    </tr>\n",
       "    <tr>\n",
       "      <th>3</th>\n",
       "      <td>3</td>\n",
       "      <td>0</td>\n",
       "      <td>10</td>\n",
       "      <td>11/11/2015</td>\n",
       "    </tr>\n",
       "    <tr>\n",
       "      <th>4</th>\n",
       "      <td>4</td>\n",
       "      <td>0</td>\n",
       "      <td>10</td>\n",
       "      <td>11/11/2015</td>\n",
       "    </tr>\n",
       "  </tbody>\n",
       "</table>\n",
       "</div>"
      ],
      "text/plain": [
       "       userID  itemID rating   timestamp\n",
       "index                                   \n",
       "0           0       0     10  11/11/2015\n",
       "1           1       0     10  11/11/2015\n",
       "2           2       0      8  11/11/2015\n",
       "3           3       0     10  11/11/2015\n",
       "4           4       0     10  11/11/2015"
      ]
     },
     "execution_count": 2,
     "metadata": {},
     "output_type": "execute_result"
    }
   ],
   "source": [
    "train_set.head()"
   ]
  },
  {
   "cell_type": "markdown",
   "metadata": {
    "colab_type": "text",
    "id": "Aru51gpw5zDh"
   },
   "source": [
    "## Part 1: Recommend Most Popular Items "
   ]
  },
  {
   "cell_type": "markdown",
   "metadata": {
    "colab_type": "text",
    "id": "A198sQHy5zDk"
   },
   "source": [
    "Now we can begin implementing the our first algorithm, that recommends to the user the list of most popular items. Although this is not a personalized approach, in many cases, this is not a bad idea - popular items are popular because everybody choose them, so there is a high likelihood that recommended popular items will be indeed chosen by the user.\n",
    "\n",
    "In the code below, fill in the missing parts. The algorithm has a training method, where item popularity is computed, and a recommendation method, where the list of popular items."
   ]
  },
  {
   "cell_type": "code",
   "execution_count": 3,
   "metadata": {
    "colab": {},
    "colab_type": "code",
    "id": "SnPMdrj05zDn"
   },
   "outputs": [],
   "source": [
    "class MostPopular:\n",
    "\n",
    "    def __init__(self):\n",
    "        self.item_ratings_sorted = None\n",
    "        self.train_set = None\n",
    "\n",
    "    def learn_model(self, train_set):\n",
    "        self.train_set = train_set\n",
    "        #1) Add code to set the item_ratings_sorted to the list of items in the training set, \n",
    "        #ordered by decreasing popularity (i.e., the number of users who have chosen an item)\n",
    "        item_rating = train_set.groupby('itemID')['userID'].count()\n",
    "        self.item_ratings_sorted = item_rating.sort_values(ascending=False).index.tolist()\n",
    "        \n",
    "    def get_top_n_recommendations(self, test_set, top_n):\n",
    "        result = {}\n",
    "        already_ranked_items_by_user = self.train_set.groupby('userID')['itemID'].apply(list)\n",
    "        \n",
    "        #For each user in the test set compute recommendations\n",
    "        for userID in test_set.userID.unique():\n",
    "            result[str(userID)] = []\n",
    "            \n",
    "            #2) Add to the result the top N items from the popular list\n",
    "            #3) Remove items that the user has already chosen in the training set (already_ranked_items_by_user)\n",
    "            result[str(userID)] = [item for item in self.item_ratings_sorted if item not in already_ranked_items_by_user[userID]][:top_n]\n",
    "        return result\n",
    "\n",
    "    def clone(self):\n",
    "        pass\n"
   ]
  },
  {
   "cell_type": "markdown",
   "metadata": {
    "colab_type": "text",
    "id": "3ntFJWgb5zDu"
   },
   "source": [
    "Now we can call the most popular algorithm to deliver a list of reocmmendations. The code below prints the list of top 5 recommended items for user with ID 431."
   ]
  },
  {
   "cell_type": "code",
   "execution_count": 4,
   "metadata": {
    "colab": {},
    "colab_type": "code",
    "id": "YsnRl1VU5zDw",
    "outputId": "3b1587e7-312d-4050-a656-71ef429fa6b7"
   },
   "outputs": [
    {
     "name": "stdout",
     "output_type": "stream",
     "text": [
      "[53, 26, 68, 85, 16]\n"
     ]
    }
   ],
   "source": [
    "popular = MostPopular()\n",
    "popular.learn_model(train_set)\n",
    "popular_recs = popular.get_top_n_recommendations(test_set,top_n=5)\n",
    "print(popular_recs['431'])\n",
    "assert popular_recs['431'] == [53, 26, 68, 85, 16], 'Wrong computation of popular items'\n"
   ]
  },
  {
   "cell_type": "markdown",
   "metadata": {
    "colab_type": "text",
    "id": "RB9d0u8E5zD6"
   },
   "source": [
    "## Part 2 - Item-Item Recommendations"
   ]
  },
  {
   "cell_type": "markdown",
   "metadata": {
    "colab_type": "text",
    "id": "my9Y885z5zD9"
   },
   "source": [
    "We now learn a slightly more sophisticated model, that uses item-item similarities. Given such a similarity score, we can recommend to a user items that are most similar to the items that the user has chosen in the past. One such useful similarity metric is the Jaccard coefficient. For two items i1 and i2, the Jaccard similarity is the number of users who have chosen both i1 and i2, divided by the number of users who have chosen either i1 or i2. That is, given the list of users who have chosen i1 and the list of users who have chosen i2, the Jaccard similarity is the intersection of the lists, divided by the union of the lists.\n",
    "\n",
    "In practice, to expedite the recommendation process, and hence reduce online latency, we will compute the item-item co-occurence matrix in the model learning phase. Then, online, when recommendations are requested, we only need to compute for each item that the user has already chosen in the past, the Jaccard scores for the other items.\n",
    "\n",
    "As the user has chosen several items in the past, we need to aggregate the Jaccard scores. That is, if the user has previously chosen i1 and i2, item i3 has two scores J(i1,i3) and J(i2,i3), and an aggregation of the scores is needed. There are two popular aggregation functions - sum and max. Empirically, max typically has better perfromance.\n",
    "\n",
    "Fill in the missing parts in the code below."
   ]
  },
  {
   "cell_type": "code",
   "execution_count": 5,
   "metadata": {
    "colab": {},
    "colab_type": "code",
    "id": "-CfCYaCR5zD-"
   },
   "outputs": [],
   "source": [
    "from tqdm import tqdm\n",
    "import numpy as np\n",
    "import operator\n",
    "\n",
    "class Jaccard:\n",
    "\n",
    "    def __init__(self):\n",
    "        self.item_ratings_sorted = None\n",
    "        self.train_set = None\n",
    "        self.item_item_counts = dict()\n",
    "        self.item_counts = None\n",
    "\n",
    "    def learn_model(self, train_set):\n",
    "        print('Started training')\n",
    "        self.train_set = train_set\n",
    "        self.item_counts =  self.train_set.groupby('itemID')['userID'].agg('count')\n",
    "        \n",
    "        maxpair = 0\n",
    "        pbar = tqdm(total=len(train_set.userID.unique()))\n",
    "        \n",
    "        #Iterating over all item pairs is inefficient. It is better to iterate only over pairs of items that were chosen together.\n",
    "        #Instead, we will iterate over the users, and for each user, and each two items that the user has chosen, increase the count\n",
    "        for u in train_set.userID.unique():\n",
    "            pbar.update(1)\n",
    "            userData = self.train_set[self.train_set.userID == u]\n",
    "            \n",
    "            #4) For each pair of items in the user data - increase the counts in self.item_item_counts\n",
    "            for item1 in userData.itemID:\n",
    "                for item2 in userData.itemID:\n",
    "                    if item1 != item2:\n",
    "                        self.item_item_counts.setdefault((item1, item2), 0)\n",
    "                        self.item_item_counts[(item1, item2)] += 1\n",
    "                      \n",
    "        pbar.close()\n",
    "        print('Done training')\n",
    "            \n",
    "            \n",
    "            \n",
    "\n",
    "    def get_top_n_recommendations(self, test_set, top_n):\n",
    "        print('Started computing recommendations')\n",
    "        result = {}\n",
    "        already_ranked_items_by_users = self.train_set.groupby('userID')['itemID'].apply(list)\n",
    "        \n",
    "        pbar = tqdm(total=len(test_set.userID.unique()))\n",
    "        \n",
    "        #For each user in the test set compute recommendations\n",
    "        for userID in test_set.userID.unique():\n",
    "            pbar.update(1)\n",
    "            result[str(userID)] = []\n",
    "            #maxvalues will maintain for each potential item to recommend its highest Jaccard score.\n",
    "            maxvalues = dict()\n",
    "            \n",
    "            #4) Iterate over the items that the user has already chosen.\n",
    "            #For each such item compute its Jaccard correlation to other items based on the item_item_counts.\n",
    "            #Aggregate into maxvalues using max.\n",
    "            #Avoid recommending items that the user has already chosen in the training set.\n",
    "            for i in already_ranked_items_by_users[userID]:\n",
    "                current_jaccard = {key[1]:  self.item_item_counts[key]/(self.item_counts[i]+self.item_counts[key[1]]) for key in self.item_item_counts if (key[0] == i) and (key[1] not in already_ranked_items_by_users[userID])}    \n",
    "                for key in current_jaccard:\n",
    "                    if key in maxvalues:\n",
    "                        maxvalues[key] = max(maxvalues[key], current_jaccard[key])\n",
    "                    else:\n",
    "                        maxvalues[key]  = current_jaccard[key]\n",
    "            \n",
    "            #Now we just take the top N items by decreasing Jaccard\n",
    "            top_list = sorted(maxvalues.items(), key=lambda kv : -kv[1])\n",
    "            i=0\n",
    "            j=0\n",
    "            while i < top_n and j < len(top_list):\n",
    "                itemID = top_list[j][0]\n",
    "                j = j + 1\n",
    "                result[str(userID)].append(itemID)\n",
    "                i = i + 1\n",
    "            \n",
    "        pbar.close()\n",
    "        print('Done computing recommendations')\n",
    "        return result\n",
    "\n",
    "    \n",
    "    def clone(self):\n",
    "        pass\n"
   ]
  },
  {
   "cell_type": "code",
   "execution_count": 6,
   "metadata": {},
   "outputs": [
    {
     "data": {
      "text/plain": [
       "\"\\ndata = [(0, 1), (0, 2), (0, 3), (1, 1), (1, 2), (1, 4), (1, 5), (2, 4), (2, 3), (3, 1), (3, 4), (3, 5), (4, 1), (4, 2), (4, 3), (4, 4), (4, 5)]\\n\\ndf = pd.DataFrame(data, columns=['userID', 'itemID'])\\n\\njaccard = Jaccard()\\njaccard.learn_model(df)\\n#jaccard_recs = jaccard.get_top_n_recommendations(test_set,top_n=2)\\nprint(df)\\nprint(jaccard.item_counts)\\nprint(jaccard.item_item_counts)\\njaccard_recs = jaccard.get_top_n_recommendations(df,top_n=2)\\n\""
      ]
     },
     "execution_count": 6,
     "metadata": {},
     "output_type": "execute_result"
    }
   ],
   "source": [
    "\"\"\"\n",
    "data = [(0, 1), (0, 2), (0, 3), (1, 1), (1, 2), (1, 4), (1, 5), (2, 4), (2, 3), (3, 1), (3, 4), (3, 5), (4, 1), (4, 2), (4, 3), (4, 4), (4, 5)]\n",
    "\n",
    "df = pd.DataFrame(data, columns=['userID', 'itemID'])\n",
    "\n",
    "jaccard = Jaccard()\n",
    "jaccard.learn_model(df)\n",
    "#jaccard_recs = jaccard.get_top_n_recommendations(test_set,top_n=2)\n",
    "print(df)\n",
    "print(jaccard.item_counts)\n",
    "print(jaccard.item_item_counts)\n",
    "jaccard_recs = jaccard.get_top_n_recommendations(df,top_n=2)\n",
    "\"\"\""
   ]
  },
  {
   "cell_type": "markdown",
   "metadata": {
    "colab_type": "raw",
    "id": "qa-ZrkOT5zEF"
   },
   "source": [
    "The code below trains a Jaccard model and generates recommendations. Training will take a while, as we need to iterate over all users, and for each user go over her items in quadratic time."
   ]
  },
  {
   "cell_type": "code",
   "execution_count": 7,
   "metadata": {
    "colab": {},
    "colab_type": "code",
    "id": "gpP9JFqj5zEH",
    "outputId": "45ba9eac-58ee-45f8-dcab-dac1686ec115"
   },
   "outputs": [
    {
     "name": "stdout",
     "output_type": "stream",
     "text": [
      "Started training\n"
     ]
    },
    {
     "name": "stderr",
     "output_type": "stream",
     "text": [
      "100%|██████████| 20197/20197 [00:04<00:00, 4628.12it/s]\n"
     ]
    },
    {
     "name": "stdout",
     "output_type": "stream",
     "text": [
      "Done training\n",
      "Started computing recommendations\n"
     ]
    },
    {
     "name": "stderr",
     "output_type": "stream",
     "text": [
      "100%|██████████| 227/227 [00:27<00:00,  8.32it/s]"
     ]
    },
    {
     "name": "stdout",
     "output_type": "stream",
     "text": [
      "Done computing recommendations\n"
     ]
    },
    {
     "name": "stderr",
     "output_type": "stream",
     "text": [
      "\n"
     ]
    }
   ],
   "source": [
    "jaccard = Jaccard()\n",
    "jaccard.learn_model(train_set)\n",
    "jaccard_recs = jaccard.get_top_n_recommendations(test_set,top_n=5)\n"
   ]
  },
  {
   "cell_type": "markdown",
   "metadata": {
    "colab_type": "text",
    "id": "1hhkOlW65zEP"
   },
   "source": [
    "As a side note - as computing the ite-item counts takes a while (especially with Python), we are using here the progress bar from the tqdm package (https://pypi.org/project/tqdm/). You need to install tqdm, or remove the progress bar, which would of course is not needed for the algorithm to run."
   ]
  },
  {
   "cell_type": "markdown",
   "metadata": {
    "colab_type": "text",
    "id": "pnxthAqj5zES"
   },
   "source": [
    "## Part 3 - Comparing the Algorithms "
   ]
  },
  {
   "cell_type": "markdown",
   "metadata": {
    "colab_type": "text",
    "id": "bESNd1ce5zEW"
   },
   "source": [
    "We now want to compare the recommendation lists to see which one is better. In top-N recommendations it is popular to computer the Precision@N metric - the portion of recommended items that were chosen by users in the test set. This is typically a reasonable metric for real systems, where one wants to optimize the number of recommended items that are chosen.\n",
    "\n",
    "We compute Precision@N by comparing the number of recommendations chosen by the users, divided by the number of overall recommendations.\n",
    "\n",
    "Fill in the missing parts in the code below:"
   ]
  },
  {
   "cell_type": "code",
   "execution_count": 8,
   "metadata": {
    "colab": {},
    "colab_type": "code",
    "id": "PbfW_Hv25zEY"
   },
   "outputs": [],
   "source": [
    "def compute_precision(test_set, recommendations):\n",
    "    #hits is the number of items that were recommended and chosen\n",
    "    hits = 0\n",
    "    #recs is the total number of recommended items\n",
    "    recs = 0\n",
    "    \n",
    "    for u in test_set.userID.unique():\n",
    "        userData = test_set[test_set.userID == u]\n",
    "        userRecs = recommendations.get(str(u))\n",
    "        #5) Compute here the number of hits. Update hits and recs accordingly.\n",
    "        userData = userData['itemID'].tolist()\n",
    "        hits_list = [item for item in userData if item in userRecs]\n",
    "        hits += len(hits_list)\n",
    "        recs += len(userRecs)\n",
    "        \n",
    "    return hits / recs\n",
    "        \n",
    "    "
   ]
  },
  {
   "cell_type": "code",
   "execution_count": 9,
   "metadata": {},
   "outputs": [
    {
     "data": {
      "text/plain": [
       "[53, 26, 68, 85, 16]"
      ]
     },
     "execution_count": 9,
     "metadata": {},
     "output_type": "execute_result"
    }
   ],
   "source": [
    "test_set[test_set.userID == 431]['itemID'].tolist()\n",
    "popular_recs.get(str('431'))"
   ]
  },
  {
   "cell_type": "code",
   "execution_count": 10,
   "metadata": {
    "colab": {},
    "colab_type": "code",
    "id": "-AJvW67S5zEe",
    "outputId": "17e4b0ff-5e0b-49d9-de38-1cdd2101bf61"
   },
   "outputs": [
    {
     "name": "stdout",
     "output_type": "stream",
     "text": [
      "Jaccard= 0.03788546255506608   Popularity= 0.027312775330396475\n"
     ]
    }
   ],
   "source": [
    "p1 = compute_precision(test_set, jaccard_recs)\n",
    "p2 = compute_precision(test_set, popular_recs)\n",
    "print(\"Jaccard=\", p1, \"  Popularity=\", p2)"
   ]
  },
  {
   "cell_type": "markdown",
   "metadata": {
    "colab_type": "text",
    "id": "6SXmVklZ5zEm"
   },
   "source": [
    "The precision values for this dataset may seem pretty low, but this is typical for many top-N problems. It is important not to compute metrics that hide the true values, such as AUC, but to acknowledge the perfromance of the system in the application."
   ]
  },
  {
   "cell_type": "markdown",
   "metadata": {
    "colab_type": "text",
    "id": "j84r4jBp5zEp"
   },
   "source": [
    "## Part 4 - Calling Algorithms from the Surprise Package"
   ]
  },
  {
   "cell_type": "markdown",
   "metadata": {
    "colab_type": "text",
    "collapsed": true,
    "id": "mXS50Vnj5zEs",
    "jupyter": {
     "outputs_hidden": true
    }
   },
   "source": [
    "There are many existing recommendation algorithms available. We will now see how we can call algorithms from the Surprise package. \n",
    "\n",
    "The code below adds a wrapper around the algorithm to transform the resulting recommendations into our desired format."
   ]
  },
  {
   "cell_type": "markdown",
   "metadata": {
    "colab_type": "text",
    "id": "i7vTBSmw5zEs"
   },
   "source": [
    "#### NOTE: \n",
    "To run the code below you first have to install _surprise_ (http://surpriselib.com/). surprise requires scipy >=1.0, so update if needed.\n",
    "\n",
    "To install: pip install scikit-surprise or, if you're using anaconda:  conda install -c conda-forge scikit-surprise).  "
   ]
  },
  {
   "cell_type": "code",
   "execution_count": 11,
   "metadata": {
    "colab": {},
    "colab_type": "code",
    "id": "bnOWlz-m5zEv"
   },
   "outputs": [],
   "source": [
    "import sys, string, os\n",
    "import pandas as pd\n",
    "import itertools\n",
    "from tqdm import tqdm\n",
    "import numpy as np\n",
    "import operator\n",
    "from surprise import Reader\n",
    "from surprise import Dataset\n",
    "from surprise.model_selection import PredefinedKFold\n",
    "from surprise.prediction_algorithms import *\n",
    "\n",
    "\n",
    "\n",
    "class SurpriseRecMethod():\n",
    "\n",
    "    #method will be the specific Surprise algorithm that we will call\n",
    "    def __init__(self, method):\n",
    "        self.method = method\n",
    "\n",
    "    def fit(self, train_set):\n",
    "        self.train_set = train_set\n",
    "\n",
    "\n",
    "    def get_top_n_recommendations(self, test_set, top_n):\n",
    "        self.test_set = test_set\n",
    "\n",
    "        #Surprise requires a slightly different input data format, so we use two different CSVs\n",
    "        test_path_tmp = \"resources//test_file.csv\"\n",
    "        train_path_tmp = \"resources//train_file.csv\"\n",
    "\n",
    "        self.train_set.to_csv(train_path_tmp, index=False, header=False)\n",
    "        self.test_set.to_csv(test_path_tmp, index=False, header=False)\n",
    "\n",
    "        fold_files = [(train_path_tmp, test_path_tmp)]\n",
    "        reader = Reader(rating_scale=(1, 10), line_format='user item rating', sep=',')\n",
    "        data = Dataset.load_from_folds(fold_files, reader=reader)\n",
    "\n",
    "        for trainset, testset in PredefinedKFold().split(data):\n",
    "            self.method.fit(trainset)\n",
    "\n",
    "        already_ranked_items_by_users = self.train_set.groupby('userID')['itemID'].apply(list)\n",
    "\n",
    "        recommendations = {}\n",
    "        pbar = tqdm(total=len(self.test_set.userID.unique()))\n",
    "        for userID in self.test_set.userID.unique():\n",
    "            pbar.update(1)\n",
    "\n",
    "            if userID not in self.train_set.userID.unique():\n",
    "                recommendations[str(userID)] = []\n",
    "                continue\n",
    "\n",
    "            items_expected_ranking = {}\n",
    "            for itemID in self.train_set.itemID.unique():\n",
    "                if itemID in already_ranked_items_by_users[userID]:\n",
    "                    continue\n",
    "                #We call here the specific Surprise method that we use for this model\n",
    "                #The method predicts a score for a given item\n",
    "                predicted = self.method.predict(str(userID), str(itemID), clip=False)\n",
    "                items_expected_ranking[itemID] = predicted[3]\n",
    "                \n",
    "            #Now we just sort by decreasing scores and take the top N\n",
    "            sorted_predictions = sorted(items_expected_ranking.items(), key=operator.itemgetter(1))\n",
    "            sorted_predictions.reverse()\n",
    "            sorted_predictions = [x[0] for x in sorted_predictions]\n",
    "            user_recommendations = sorted_predictions[:top_n]\n",
    "            recommendations[str(userID)] = user_recommendations\n",
    "        pbar.close()\n",
    "        return recommendations\n"
   ]
  },
  {
   "cell_type": "markdown",
   "metadata": {
    "colab_type": "text",
    "id": "3YIHU4ZL5zE5"
   },
   "source": [
    "The code below calls the package with the SlopeOne algorithm."
   ]
  },
  {
   "cell_type": "code",
   "execution_count": 21,
   "metadata": {
    "colab": {},
    "colab_type": "code",
    "id": "vsXXqfoD5zE6",
    "outputId": "6ddbe18f-7994-4c6f-828b-4ee51ee0e9e8"
   },
   "outputs": [
    {
     "name": "stderr",
     "output_type": "stream",
     "text": [
      "100%|██████████| 227/227 [00:01<00:00, 211.14it/s]\n"
     ]
    }
   ],
   "source": [
    "modelSlopeOne = SurpriseRecMethod(SlopeOne())\n",
    "modelSlopeOne.fit(train_set)\n",
    "recSlopeOne = modelSlopeOne.get_top_n_recommendations(test_set, 5)\n",
    "p3 = compute_precision(test_set,recSlopeOne)"
   ]
  },
  {
   "cell_type": "markdown",
   "metadata": {
    "colab_type": "text",
    "id": "-4UeYiqg5zFE"
   },
   "source": [
    "The code below calls the package with a nearest neighbor user-item recommendation method."
   ]
  },
  {
   "cell_type": "code",
   "execution_count": 24,
   "metadata": {
    "colab": {},
    "colab_type": "code",
    "id": "up4c0wqr5zFH"
   },
   "outputs": [
    {
     "name": "stdout",
     "output_type": "stream",
     "text": [
      "Computing the cosine similarity matrix...\n"
     ]
    },
    {
     "ename": "MemoryError",
     "evalue": "Unable to allocate 3.04 GiB for an array with shape (20197, 20197) and data type float64",
     "output_type": "error",
     "traceback": [
      "\u001b[1;31m---------------------------------------------------------------------------\u001b[0m",
      "\u001b[1;31mMemoryError\u001b[0m                               Traceback (most recent call last)",
      "Cell \u001b[1;32mIn[24], line 3\u001b[0m\n\u001b[0;32m      1\u001b[0m modelKNNUser \u001b[38;5;241m=\u001b[39m SurpriseRecMethod(KNNBasic(sim_options\u001b[38;5;241m=\u001b[39m{\u001b[38;5;124m'\u001b[39m\u001b[38;5;124mname\u001b[39m\u001b[38;5;124m'\u001b[39m: \u001b[38;5;124m'\u001b[39m\u001b[38;5;124mcosine\u001b[39m\u001b[38;5;124m'\u001b[39m, \u001b[38;5;124m'\u001b[39m\u001b[38;5;124muser_based\u001b[39m\u001b[38;5;124m'\u001b[39m: \u001b[38;5;28;01mTrue\u001b[39;00m}))\n\u001b[0;32m      2\u001b[0m modelKNNUser\u001b[38;5;241m.\u001b[39mfit(train_set)\n\u001b[1;32m----> 3\u001b[0m recKNNUser \u001b[38;5;241m=\u001b[39m \u001b[43mmodelKNNUser\u001b[49m\u001b[38;5;241;43m.\u001b[39;49m\u001b[43mget_top_n_recommendations\u001b[49m\u001b[43m(\u001b[49m\u001b[43mtest_set\u001b[49m\u001b[43m,\u001b[49m\u001b[43m \u001b[49m\u001b[38;5;241;43m5\u001b[39;49m\u001b[43m)\u001b[49m\n\u001b[0;32m      4\u001b[0m p4 \u001b[38;5;241m=\u001b[39m compute_precision(test_set,recKNNUser)\n",
      "Cell \u001b[1;32mIn[11], line 39\u001b[0m, in \u001b[0;36mSurpriseRecMethod.get_top_n_recommendations\u001b[1;34m(self, test_set, top_n)\u001b[0m\n\u001b[0;32m     36\u001b[0m data \u001b[38;5;241m=\u001b[39m Dataset\u001b[38;5;241m.\u001b[39mload_from_folds(fold_files, reader\u001b[38;5;241m=\u001b[39mreader)\n\u001b[0;32m     38\u001b[0m \u001b[38;5;28;01mfor\u001b[39;00m trainset, testset \u001b[38;5;129;01min\u001b[39;00m PredefinedKFold()\u001b[38;5;241m.\u001b[39msplit(data):\n\u001b[1;32m---> 39\u001b[0m     \u001b[38;5;28;43mself\u001b[39;49m\u001b[38;5;241;43m.\u001b[39;49m\u001b[43mmethod\u001b[49m\u001b[38;5;241;43m.\u001b[39;49m\u001b[43mfit\u001b[49m\u001b[43m(\u001b[49m\u001b[43mtrainset\u001b[49m\u001b[43m)\u001b[49m\n\u001b[0;32m     41\u001b[0m already_ranked_items_by_users \u001b[38;5;241m=\u001b[39m \u001b[38;5;28mself\u001b[39m\u001b[38;5;241m.\u001b[39mtrain_set\u001b[38;5;241m.\u001b[39mgroupby(\u001b[38;5;124m'\u001b[39m\u001b[38;5;124muserID\u001b[39m\u001b[38;5;124m'\u001b[39m)[\u001b[38;5;124m'\u001b[39m\u001b[38;5;124mitemID\u001b[39m\u001b[38;5;124m'\u001b[39m]\u001b[38;5;241m.\u001b[39mapply(\u001b[38;5;28mlist\u001b[39m)\n\u001b[0;32m     43\u001b[0m recommendations \u001b[38;5;241m=\u001b[39m {}\n",
      "File \u001b[1;32mD:\\CondaEnv\\py4dp\\Lib\\site-packages\\surprise\\prediction_algorithms\\knns.py:98\u001b[0m, in \u001b[0;36mKNNBasic.fit\u001b[1;34m(self, trainset)\u001b[0m\n\u001b[0;32m     95\u001b[0m \u001b[38;5;28;01mdef\u001b[39;00m \u001b[38;5;21mfit\u001b[39m(\u001b[38;5;28mself\u001b[39m, trainset):\n\u001b[0;32m     97\u001b[0m     SymmetricAlgo\u001b[38;5;241m.\u001b[39mfit(\u001b[38;5;28mself\u001b[39m, trainset)\n\u001b[1;32m---> 98\u001b[0m     \u001b[38;5;28mself\u001b[39m\u001b[38;5;241m.\u001b[39msim \u001b[38;5;241m=\u001b[39m \u001b[38;5;28;43mself\u001b[39;49m\u001b[38;5;241;43m.\u001b[39;49m\u001b[43mcompute_similarities\u001b[49m\u001b[43m(\u001b[49m\u001b[43m)\u001b[49m\n\u001b[0;32m    100\u001b[0m     \u001b[38;5;28;01mreturn\u001b[39;00m \u001b[38;5;28mself\u001b[39m\n",
      "File \u001b[1;32mD:\\CondaEnv\\py4dp\\Lib\\site-packages\\surprise\\prediction_algorithms\\algo_base.py:248\u001b[0m, in \u001b[0;36mAlgoBase.compute_similarities\u001b[1;34m(self)\u001b[0m\n\u001b[0;32m    246\u001b[0m \u001b[38;5;28;01mif\u001b[39;00m \u001b[38;5;28mgetattr\u001b[39m(\u001b[38;5;28mself\u001b[39m, \u001b[38;5;124m\"\u001b[39m\u001b[38;5;124mverbose\u001b[39m\u001b[38;5;124m\"\u001b[39m, \u001b[38;5;28;01mFalse\u001b[39;00m):\n\u001b[0;32m    247\u001b[0m     \u001b[38;5;28mprint\u001b[39m(\u001b[38;5;124mf\u001b[39m\u001b[38;5;124m\"\u001b[39m\u001b[38;5;124mComputing the \u001b[39m\u001b[38;5;132;01m{\u001b[39;00mname\u001b[38;5;132;01m}\u001b[39;00m\u001b[38;5;124m similarity matrix...\u001b[39m\u001b[38;5;124m\"\u001b[39m)\n\u001b[1;32m--> 248\u001b[0m sim \u001b[38;5;241m=\u001b[39m \u001b[43mconstruction_func\u001b[49m\u001b[43m[\u001b[49m\u001b[43mname\u001b[49m\u001b[43m]\u001b[49m\u001b[43m(\u001b[49m\u001b[38;5;241;43m*\u001b[39;49m\u001b[43margs\u001b[49m\u001b[43m)\u001b[49m\n\u001b[0;32m    249\u001b[0m \u001b[38;5;28;01mif\u001b[39;00m \u001b[38;5;28mgetattr\u001b[39m(\u001b[38;5;28mself\u001b[39m, \u001b[38;5;124m\"\u001b[39m\u001b[38;5;124mverbose\u001b[39m\u001b[38;5;124m\"\u001b[39m, \u001b[38;5;28;01mFalse\u001b[39;00m):\n\u001b[0;32m    250\u001b[0m     \u001b[38;5;28mprint\u001b[39m(\u001b[38;5;124m\"\u001b[39m\u001b[38;5;124mDone computing similarity matrix.\u001b[39m\u001b[38;5;124m\"\u001b[39m)\n",
      "File \u001b[1;32mD:\\CondaEnv\\py4dp\\Lib\\site-packages\\surprise\\similarities.pyx:58\u001b[0m, in \u001b[0;36msurprise.similarities.cosine\u001b[1;34m()\u001b[0m\n",
      "\u001b[1;31mMemoryError\u001b[0m: Unable to allocate 3.04 GiB for an array with shape (20197, 20197) and data type float64"
     ]
    }
   ],
   "source": [
    "modelKNNUser = SurpriseRecMethod(KNNBasic(sim_options={'name': 'cosine', 'user_based': True}))\n",
    "modelKNNUser.fit(train_set)\n",
    "recKNNUser = modelKNNUser.get_top_n_recommendations(test_set, 5)\n",
    "p4 = compute_precision(test_set,recKNNUser)"
   ]
  },
  {
   "cell_type": "markdown",
   "metadata": {
    "colab_type": "text",
    "id": "e-FDg7Sk5zFP"
   },
   "source": [
    "Let us look at the results of all algorithms together:"
   ]
  },
  {
   "cell_type": "code",
   "execution_count": 14,
   "metadata": {
    "colab": {},
    "colab_type": "code",
    "id": "MOrBFXVN5zFR"
   },
   "outputs": [
    {
     "ename": "NameError",
     "evalue": "name 'p4' is not defined",
     "output_type": "error",
     "traceback": [
      "\u001b[1;31m---------------------------------------------------------------------------\u001b[0m",
      "\u001b[1;31mNameError\u001b[0m                                 Traceback (most recent call last)",
      "Cell \u001b[1;32mIn[14], line 1\u001b[0m\n\u001b[1;32m----> 1\u001b[0m pd\u001b[38;5;241m.\u001b[39mDataFrame\u001b[38;5;241m.\u001b[39mfrom_dict({\u001b[38;5;124m'\u001b[39m\u001b[38;5;124mJaccard\u001b[39m\u001b[38;5;124m'\u001b[39m:p1,\u001b[38;5;124m'\u001b[39m\u001b[38;5;124mPopularity\u001b[39m\u001b[38;5;124m'\u001b[39m:p2,\u001b[38;5;124m'\u001b[39m\u001b[38;5;124mSlopeOne\u001b[39m\u001b[38;5;124m'\u001b[39m:p3,\u001b[38;5;124m'\u001b[39m\u001b[38;5;124mUser KNN\u001b[39m\u001b[38;5;124m'\u001b[39m:\u001b[43mp4\u001b[49m}, orient\u001b[38;5;241m=\u001b[39m\u001b[38;5;124m'\u001b[39m\u001b[38;5;124mindex\u001b[39m\u001b[38;5;124m'\u001b[39m,columns\u001b[38;5;241m=\u001b[39m[\u001b[38;5;124m'\u001b[39m\u001b[38;5;124mPrecision\u001b[39m\u001b[38;5;124m'\u001b[39m])\n",
      "\u001b[1;31mNameError\u001b[0m: name 'p4' is not defined"
     ]
    }
   ],
   "source": [
    "pd.DataFrame.from_dict({'Jaccard':p1,'Popularity':p2,'SlopeOne':p3,'User KNN':p4}, orient='index',columns=['Precision'])"
   ]
  },
  {
   "cell_type": "markdown",
   "metadata": {
    "colab_type": "text",
    "id": "y9-JSGCE5zFY"
   },
   "source": [
    "Try the NMF (non-negative matrix factorization) algorithms from the package - https://surprise.readthedocs.io/en/stable/matrix_factorization.html#surprise.prediction_algorithms.matrix_factorization.NMF.\n"
   ]
  },
  {
   "cell_type": "code",
   "execution_count": 17,
   "metadata": {
    "colab": {},
    "colab_type": "code",
    "id": "IfHe-_iB5zFZ"
   },
   "outputs": [
    {
     "name": "stderr",
     "output_type": "stream",
     "text": [
      "100%|██████████| 227/227 [00:00<00:00, 289.48it/s]\n"
     ]
    }
   ],
   "source": [
    "#Your code here\n",
    "modelSlopeOne = SurpriseRecMethod(NMF())\n",
    "modelSlopeOne.fit(train_set)\n",
    "recSlopeOne = modelSlopeOne.get_top_n_recommendations(test_set, 5)\n",
    "p5 = compute_precision(test_set,recSlopeOne)"
   ]
  },
  {
   "cell_type": "code",
   "execution_count": 23,
   "metadata": {},
   "outputs": [
    {
     "data": {
      "text/html": [
       "<div>\n",
       "<style scoped>\n",
       "    .dataframe tbody tr th:only-of-type {\n",
       "        vertical-align: middle;\n",
       "    }\n",
       "\n",
       "    .dataframe tbody tr th {\n",
       "        vertical-align: top;\n",
       "    }\n",
       "\n",
       "    .dataframe thead th {\n",
       "        text-align: right;\n",
       "    }\n",
       "</style>\n",
       "<table border=\"1\" class=\"dataframe\">\n",
       "  <thead>\n",
       "    <tr style=\"text-align: right;\">\n",
       "      <th></th>\n",
       "      <th>Precision</th>\n",
       "    </tr>\n",
       "  </thead>\n",
       "  <tbody>\n",
       "    <tr>\n",
       "      <th>Jaccard</th>\n",
       "      <td>0.037885</td>\n",
       "    </tr>\n",
       "    <tr>\n",
       "      <th>Popularity</th>\n",
       "      <td>0.027313</td>\n",
       "    </tr>\n",
       "    <tr>\n",
       "      <th>SlopeOne</th>\n",
       "      <td>0.032599</td>\n",
       "    </tr>\n",
       "    <tr>\n",
       "      <th>User KNN</th>\n",
       "      <td>0.000000</td>\n",
       "    </tr>\n",
       "    <tr>\n",
       "      <th>NMF</th>\n",
       "      <td>0.035242</td>\n",
       "    </tr>\n",
       "  </tbody>\n",
       "</table>\n",
       "</div>"
      ],
      "text/plain": [
       "            Precision\n",
       "Jaccard      0.037885\n",
       "Popularity   0.027313\n",
       "SlopeOne     0.032599\n",
       "User KNN     0.000000\n",
       "NMF          0.035242"
      ]
     },
     "execution_count": 23,
     "metadata": {},
     "output_type": "execute_result"
    }
   ],
   "source": [
    "p4=0\n",
    "pd.DataFrame.from_dict({'Jaccard':p1,'Popularity':p2,'SlopeOne':p3,'User KNN':p4, 'NMF': p5}, orient='index',columns=['Precision'])"
   ]
  },
  {
   "cell_type": "markdown",
   "metadata": {
    "colab_type": "text",
    "id": "wPSTAFb15zFf"
   },
   "source": [
    "For this particular dataset, the user nearest neighbor approach worked best. Hence, should we need to choose a method to put online, we should go with this method."
   ]
  },
  {
   "cell_type": "code",
   "execution_count": null,
   "metadata": {
    "colab": {},
    "colab_type": "code",
    "collapsed": true,
    "id": "3DCxLTlC5zFj",
    "jupyter": {
     "outputs_hidden": true
    }
   },
   "outputs": [],
   "source": []
  }
 ],
 "metadata": {
  "colab": {
   "name": "ExcerciseTopN.ipynb",
   "provenance": [],
   "version": "0.3.2"
  },
  "kernelspec": {
   "display_name": "Python 3 (ipykernel)",
   "language": "python",
   "name": "python3"
  },
  "language_info": {
   "codemirror_mode": {
    "name": "ipython",
    "version": 3
   },
   "file_extension": ".py",
   "mimetype": "text/x-python",
   "name": "python",
   "nbconvert_exporter": "python",
   "pygments_lexer": "ipython3",
   "version": "3.11.5"
  }
 },
 "nbformat": 4,
 "nbformat_minor": 4
}
