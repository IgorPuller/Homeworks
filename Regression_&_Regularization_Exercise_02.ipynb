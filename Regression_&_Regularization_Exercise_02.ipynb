{
  "cells": [
    {
      "cell_type": "markdown",
      "metadata": {
        "id": "chEqqJbLzFew"
      },
      "source": [
        "# Ydata Data Science School\n",
        "## Linear Regression & Regularization Exercise.\n",
        "\n",
        "\n",
        "## Outline\n",
        "In this exercise you will learn the following topics:\n",
        "\n",
        "1. Refresher on how linear regression is solved in batch and in Gradient Descent\n",
        "2. Implementation of Ridge Regression\n",
        "3. Comparing Ridge, Lasso and vanila Linear Regression on a dataset"
      ]
    },
    {
      "cell_type": "markdown",
      "metadata": {
        "id": "mR9UFmk2greT"
      },
      "source": [
        "## Refresher on Ordinary Least Square (OLS) aka Linear Regeression\n",
        "\n",
        "### Lecture Note\n",
        "\n",
        "In Matrix notation, the matrix $X$ is of dimensions $n \\times p$ where each row is an example and each column is a feature dimension.\n",
        "\n",
        "Similarily, $y$ is of dimension $n \\times 1$ and $w$ is of dimensions $p \\times 1$.\n",
        "\n",
        "The model is $\\hat{y}=X\\cdot w$ where we assume for simplicity that $X$'s first columns equals to 1 (one padding), to account for the bias term.\n",
        "\n",
        "Our objective is to optimize the loss $L$ defines as resiudal sum of squares (RSS):\n",
        "\n",
        "$L_{RSS}=\\frac{1}{N}\\left\\Vert Xw-y \\right\\Vert^2$ (notice that in matrix notation this means summing over all examples, so $L$ is scalar.)\n",
        "\n",
        "To find the optimal $w$ one needs to derive the loss with respect to $w$.\n",
        "\n",
        "$\\frac{\\partial{L_{RSS}}}{\\partial{w}}=\\frac{2}{N}X^T(Xw-y)$ (to see why, read about [matrix derivatives](http://www.gatsby.ucl.ac.uk/teaching/courses/sntn/sntn-2017/resources/Matrix_derivatives_cribsheet.pdf) or see class notes )\n",
        "\n",
        "Thus, the gardient descent solution is $w'=w-\\alpha \\frac{2}{N}X^T(Xw-y)$.\n",
        "\n",
        "Solving $\\frac{\\partial{L_{RSS}}}{\\partial{w}}=0$ for $w$ one can also get analytical solution:\n",
        "\n",
        "$w_{OLS}=(X^TX)^{-1}X^Ty$\n",
        "\n",
        "The first term, $(X^TX)^{-1}X^T$ is also called the pseudo inverse of $X$.\n",
        "\n",
        "See [lecture note from Stanford](https://web.stanford.edu/~mrosenfe/soc_meth_proj3/matrix_OLS_NYU_notes.pdf) for more details.\n"
      ]
    },
    {
      "cell_type": "markdown",
      "metadata": {
        "id": "JA3MEKz80vdy"
      },
      "source": [
        "## Exercise 1 - Ordinary Least Square\n",
        "* Get the boston housing dataset https://www.cs.toronto.edu/~delve/data/boston/bostonDetail.html\n",
        "\n",
        "* What is $p$? what is $n$ in the above notation? hint: [shape](https://docs.scipy.org/doc/numpy-1.15.0/reference/generated/numpy.ndarray.shape.html)\n",
        "\n",
        "* write a model `OrdinaryLinearRegression` which has a propoery $w$ and 3 methods: `fit`, `predict` and `score` (which returns the MSE on a given sample set). Hint: use [numpy.linalg.pinv](https://docs.scipy.org/doc/numpy-1.15.1/reference/generated/numpy.linalg.pinv.html) to be more efficient.\n",
        "\n",
        "* Fit the model. What is the training MSE?\n",
        "\n",
        "* Plot a scatter plot where on x-axis plot $Y$ and in the y-axis $\\hat{Y}_{OLS}$\n",
        "\n",
        "* Split the data to 75% train and 25% test 20 times. What is the average MSE now for train and test? Hint: use [train_test_split](http://scikit-learn.org/stable/modules/generated/sklearn.model_selection.train_test_split.html) or [ShuffleSplit](http://scikit-learn.org/stable/modules/generated/sklearn.model_selection.ShuffleSplit.html).\n",
        "\n",
        "* Use a t-test to proove that the MSE for training is significantly smaller than for testing. What is the p-value? Hint: use [scipy.stats.ttest_rel](https://docs.scipy.org/doc/scipy-0.14.0/reference/generated/scipy.stats.ttest_rel.html).\n",
        "\n",
        "* Write a new class `OrdinaryLinearRegressionGradientDescent` which inherits from `OrdinaryLinearRegression` and solves the problem using gradinet descent. The class should get as a parameter the learning rate and number of iteration. Plot the class convergance. What is the effect of learning rate? How would you find number of iteration automatically? Note: Gradient Descent does not work well when features are not scaled evenly (why?!). Be sure to normalize your features first.\n",
        "\n",
        "* The following parameters are optional (not mandatory to use):\n",
        "    * early_stop - True / False boolean to indicate to stop running when loss stops decaying and False to continue.\n",
        "    * verbose- True/False boolean to turn on / off logging, e.g. print details like iteration number and loss (https://en.wikipedia.org/wiki/Verbose_mode)\n",
        "    * track_loss - True / False boolean when to save loss results to present later in learning curve graphs"
      ]
    },
    {
      "cell_type": "code",
      "execution_count": 135,
      "metadata": {
        "id": "ZuSS8LhcfZdn"
      },
      "outputs": [],
      "source": [
        "# * write a model `Ols` which has a propoery $w$ and 3 methods: `fit`, `predict` and `score`.? hint: use [numpy.linalg.pinv](https://docs.scipy.org/doc/numpy-1.15.1/reference/generated/numpy.linalg.pinv.html) to be more efficient.\n",
        "import numpy as np\n",
        "class Ols(object):\n",
        "  def __init__(self):\n",
        "    self.w = None\n",
        "\n",
        "  @staticmethod\n",
        "  def pad(X):\n",
        "    pass\n",
        "\n",
        "  def fit(self, X, Y):\n",
        "    #remeber pad with 1 before fitting\n",
        "    X = np.pad(array=X, pad_width=((0,0),(1,0)), mode='constant',constant_values=1)\n",
        "    self.X = X\n",
        "    self.Y = Y\n",
        "    self.w = (np.linalg.pinv(X.T@X))@X.T@Y\n",
        "\n",
        "\n",
        "  def _fit(self, X, Y):\n",
        "    # optional to use this\n",
        "    pass\n",
        "\n",
        "  def predict(self, X):\n",
        "    #return wx\n",
        "    X = np.pad(array=X, pad_width=((0,0),(1,0)), mode='constant',constant_values=1)\n",
        "    w = self.w\n",
        "    w = np.expand_dims(w,axis=-1)\n",
        "    return X@w\n",
        "\n",
        "  def _predict(self, X):\n",
        "    # optional to use this\n",
        "    pass\n",
        "\n",
        "  def score(self, X, Y):\n",
        "    #return MSE\n",
        "    X = np.pad(array=X, pad_width=((0,0),(1,0)), mode='constant',constant_values=1)\n",
        "    n = Y.shape[0]\n",
        "    w = self.w\n",
        "    #w = np.expand_dims(w,axis=-1)\n",
        "    return 1/(n)*np.sum(np.power(X @ w - Y, 2))"
      ]
    },
    {
      "cell_type": "code",
      "source": [
        "import pandas as pd\n",
        "np.random.seed(42)\n",
        "data = pd.read_csv('/content/Boston-house-price-data.csv')\n",
        "data.head()\n",
        "X = data.iloc[:,:-1]\n",
        "Y = data.iloc[:,-1]\n",
        "#X = np.pad(array=X, pad_width=((0,0),(1,0)), mode='constant',constant_values=1)"
      ],
      "metadata": {
        "id": "hx3ar6H7N0uW"
      },
      "execution_count": 136,
      "outputs": []
    },
    {
      "cell_type": "code",
      "source": [
        "from sklearn.model_selection import train_test_split\n",
        "X_train, X_test, Y_train, Y_test = train_test_split(X, Y, test_size=0.3, random_state=42)\n",
        "model = Ols();\n",
        "model.fit(X_train,Y_train);\n",
        "model.predict(X_test);\n",
        "print(model.score(X_train,Y_train))\n",
        "model.score(X_test,Y_test)\n"
      ],
      "metadata": {
        "colab": {
          "base_uri": "https://localhost:8080/"
        },
        "id": "YvPmt-zjPSgq",
        "outputId": "addc6602-ff9b-44ab-d277-57c0ca326afc"
      },
      "execution_count": 137,
      "outputs": [
        {
          "output_type": "stream",
          "name": "stdout",
          "text": [
            "22.545481487421423\n"
          ]
        },
        {
          "output_type": "execute_result",
          "data": {
            "text/plain": [
              "21.517444231209087"
            ]
          },
          "metadata": {},
          "execution_count": 137
        }
      ]
    },
    {
      "cell_type": "code",
      "source": [
        "import matplotlib.pyplot as plt\n",
        "plt.scatter(Y_test, model.predict(X_test));\n",
        "plt.xlabel('$Y$')\n",
        "plt.ylabel('$\\hat{Y}_{OLS}$');\n"
      ],
      "metadata": {
        "colab": {
          "base_uri": "https://localhost:8080/",
          "height": 449
        },
        "id": "O4eS4JUVdeEn",
        "outputId": "1c7937bb-4c4a-4bab-ed6c-665c408052c1"
      },
      "execution_count": 153,
      "outputs": [
        {
          "output_type": "display_data",
          "data": {
            "text/plain": [
              "<Figure size 640x480 with 1 Axes>"
            ],
            "image/png": "[encoded data removed]"
          },
          "metadata": {}
        }
      ]
    },
    {
      "cell_type": "code",
      "source": [
        "mse_train = []\n",
        "mse_test = []\n",
        "for i in range(20):\n",
        "  X_train, X_test, Y_train, Y_test = train_test_split(X, Y, test_size=0.25)\n",
        "  model = Ols();\n",
        "  model.fit(X_train,Y_train);\n",
        "  model.predict(X_test);\n",
        "  #w=model.w\n",
        "  #w = np.expand_dims(w,axis=-1)\n",
        "  #print(np.sum((X_test@w-Y_test)**2)/Y_test.size)\n",
        "  #print(np.sum((X_train@w-Y_test)**2)/Y_train.size)\n",
        "  mse_train.append(model.score(X_train,Y_train))\n",
        "  mse_test.append(model.score(X_test,Y_test))\n",
        "#w=model.w\n",
        "#w = np.expand_dims(w,axis=-1)\n",
        "#print(w)\n",
        "#print(np.sum((X_test@w-Y_test)**2)/Y_test.size)\n",
        "#print(np.sum((X_train@w-Y_test)**2)/Y_train.size)\n",
        "mse_test,mse_train\n"
      ],
      "metadata": {
        "colab": {
          "base_uri": "https://localhost:8080/"
        },
        "id": "oP2LKhKkeXPR",
        "outputId": "29152e78-e49b-47ad-ae8f-e43d4342cf2d"
      },
      "execution_count": 139,
      "outputs": [
        {
          "output_type": "execute_result",
          "data": {
            "text/plain": [
              "([22.098694827136875,\n",
              "  17.537101208606998,\n",
              "  32.80613615026141,\n",
              "  18.307919215302153,\n",
              "  20.27597661703171,\n",
              "  28.632166568930533,\n",
              "  16.324580105219127,\n",
              "  28.052740153702025,\n",
              "  35.04182221594469,\n",
              "  29.265989933526214,\n",
              "  18.46827485505328,\n",
              "  24.96668596200068,\n",
              "  22.95527307628707,\n",
              "  31.91913652348652,\n",
              "  18.671428254993018,\n",
              "  30.514441366781313,\n",
              "  28.187562483281372,\n",
              "  38.67639356380551,\n",
              "  23.248805932193356,\n",
              "  24.19951726400097],\n",
              " [22.340057992152875,\n",
              "  23.644902820078894,\n",
              "  19.293734943653444,\n",
              "  23.502677147749118,\n",
              "  22.58560075021273,\n",
              "  19.940736032202935,\n",
              "  24.275955028826626,\n",
              "  20.337296807650137,\n",
              "  18.3310811663413,\n",
              "  19.977001817659175,\n",
              "  23.317216905276382,\n",
              "  21.35944845148022,\n",
              "  21.846648061600998,\n",
              "  19.264924147412756,\n",
              "  23.331396588943193,\n",
              "  19.572857262191196,\n",
              "  20.282895206656892,\n",
              "  17.325959098287267,\n",
              "  21.721290337937123,\n",
              "  21.62698970901816])"
            ]
          },
          "metadata": {},
          "execution_count": 139
        }
      ]
    },
    {
      "cell_type": "code",
      "source": [
        "from scipy import stats\n",
        "stats.ttest_rel(mse_train, mse_test)"
      ],
      "metadata": {
        "colab": {
          "base_uri": "https://localhost:8080/"
        },
        "id": "xyGF5ldIgWzL",
        "outputId": "c0ca4180-f687-46d5-9e8a-a821a4aaba0d"
      },
      "execution_count": 140,
      "outputs": [
        {
          "output_type": "execute_result",
          "data": {
            "text/plain": [
              "TtestResult(statistic=-2.3227663224081145, pvalue=0.03144792965171587, df=19)"
            ]
          },
          "metadata": {},
          "execution_count": 140
        }
      ]
    },
    {
      "cell_type": "code",
      "execution_count": 148,
      "metadata": {
        "id": "B689kXfa1eit"
      },
      "outputs": [],
      "source": [
        "# Write a new class OlsGd which solves the problem using gradinet descent.\n",
        "# The class should get as a parameter the learning rate and number of iteration.\n",
        "# Plot the loss convergance. for each alpha, learning rate plot the MSE with respect to number of iterations.\n",
        "# What is the effect of learning rate?\n",
        "# How would you find number of iteration automatically?\n",
        "# Note: Gradient Descent does not work well when features are not scaled evenly (why?!). Be sure to normalize your feature first.\n",
        "class Normalizer():\n",
        "  def __init__(self):\n",
        "    pass\n",
        "\n",
        "  def fit(self, X):\n",
        "    #self.X_min = X.T.min(axis=1)\n",
        "    #self.X_max = X.T.max(axis=1)\n",
        "    self.X_mean = X.T.mean(axis=1)\n",
        "    self.X_std = X.T.std(axis=1)\n",
        "\n",
        "\n",
        "  def predict(self, X):\n",
        "    #apply normalization\n",
        "    #return (X-self.X_min)/(self.X_max - self.X_min)\n",
        "    return (X-self.X_mean)/self.X_std\n",
        "\n",
        "class OlsGd(Ols):\n",
        "\n",
        "  def __init__(self, learning_rate=.05,\n",
        "               num_iteration=1000,\n",
        "               normalize=True,\n",
        "               early_stop=True,\n",
        "               verbose=True):\n",
        "\n",
        "    super(OlsGd, self).__init__()\n",
        "    self.learning_rate = learning_rate\n",
        "    self.num_iteration = num_iteration\n",
        "    self.early_stop = early_stop\n",
        "    self.normalize = normalize\n",
        "    self.normalizer = Normalizer()\n",
        "    self.verbose = verbose\n",
        "\n",
        "\n",
        "  def _fit(self, X, Y, reset=True, track_loss=True):\n",
        "    #remeber to normalize the data before starting\n",
        "    self.X = X\n",
        "    self.Y = Y\n",
        "    norm = Normalizer()\n",
        "    norm.fit(X)\n",
        "    X = norm.predict(X)\n",
        "    X = np.pad(array=X, pad_width=((0,0),(1,0)), mode='constant',constant_values=1)\n",
        "    n = Y.shape[0]\n",
        "    w = np.random.uniform(-1, 1, (X.shape[1]))\n",
        "    for i in range(self.num_iteration):\n",
        "      grad = 2/n * X.T @ (X @ w - Y)\n",
        "      w -= self.learning_rate*grad\n",
        "    self.w = w\n",
        "\n",
        "\n",
        "  def _predict(self, X):\n",
        "    #remeber to normalize the data before starting\n",
        "    norm = Normalizer()\n",
        "    norm.fit(self.X)\n",
        "    X = norm.predict(X)\n",
        "    X = np.pad(array=X, pad_width=((0,0),(1,0)), mode='constant',constant_values=1)\n",
        "    w = self.w\n",
        "    w = np.expand_dims(w,axis=-1)\n",
        "    return X@w\n",
        "\n",
        "  def _step(self, X, Y):\n",
        "    # use w update for gradient descent\n",
        "    pass\n",
        "\n"
      ]
    },
    {
      "cell_type": "code",
      "source": [
        "for i in range(3):\n",
        "  print(\"----------------------------\")\n",
        "  mse_train = []\n",
        "  mse_test = []\n",
        "  X_train, X_test, Y_train, Y_test = train_test_split(X, Y, test_size=0.25)\n",
        "  model = OlsGd(learning_rate=.05, num_iteration=1000);\n",
        "  model._fit(X_train,Y_train);\n",
        "  model._predict(X_test);\n",
        "  mse_train.append(model.score(X_train,Y_train))\n",
        "  mse_test.append(model.score(X_test,Y_test))\n",
        "  print(model.w)\n",
        "  print(mse_test)\n",
        "  print(mse_train)\n",
        "  model = Ols();\n",
        "  model.fit(X_train,Y_train);\n",
        "  model.predict(X_test);\n",
        "  print(model.w)\n",
        "\n",
        "\n",
        "#mse_test,mse_train"
      ],
      "metadata": {
        "colab": {
          "base_uri": "https://localhost:8080/"
        },
        "id": "gkHwrVH_8Up2",
        "outputId": "bcad341f-5e6c-447c-9b10-7b9ec07c1e7d"
      },
      "execution_count": 147,
      "outputs": [
        {
          "output_type": "stream",
          "name": "stdout",
          "text": [
            "----------------------------\n",
            "        CRIM    ZN  INDUS  CHAS    NOX     RM   AGE      DIS  RAD    TAX  \\\n",
            "480  5.82401   0.0  18.10     0  0.532  6.242  64.7   3.4242   24  666.0   \n",
            "351  0.07950  60.0   1.69     0  0.411  6.579  35.9  10.7103    4  411.0   \n",
            "248  0.16439  22.0   5.86     0  0.431  6.433  49.1   7.8265    7  330.0   \n",
            "216  0.04560   0.0  13.89     1  0.550  5.888  56.0   3.1121    5  276.0   \n",
            "429  9.33889   0.0  18.10     0  0.679  6.380  95.6   1.9682   24  666.0   \n",
            "..       ...   ...    ...   ...    ...    ...   ...      ...  ...    ...   \n",
            "30   1.13081   0.0   8.14     0  0.538  5.713  94.1   4.2330    4  307.0   \n",
            "288  0.04590  52.5   5.32     0  0.405  6.315  45.6   7.3172    6  293.0   \n",
            "80   0.04113  25.0   4.86     0  0.426  6.727  33.5   5.4007    4  281.0   \n",
            "218  0.11069   0.0  13.89     1  0.550  5.951  93.8   2.8893    5  276.0   \n",
            "20   1.25179   0.0   8.14     0  0.538  5.570  98.1   3.7979    4  307.0   \n",
            "\n",
            "     PTRATIO       B  LSTAT  \n",
            "480     20.2  396.90  10.74  \n",
            "351     18.3  370.78   5.49  \n",
            "248     19.1  374.71   9.52  \n",
            "216     16.4  392.80  13.51  \n",
            "429     20.2   60.72  24.08  \n",
            "..       ...     ...    ...  \n",
            "30      21.0  360.17  22.60  \n",
            "288     16.6  396.90   7.60  \n",
            "80      19.0  396.90   5.29  \n",
            "218     16.4  396.90  17.92  \n",
            "20      21.0  376.57  21.02  \n",
            "\n",
            "[379 rows x 13 columns]\n",
            "         CRIM        ZN     INDUS      CHAS       NOX        RM       AGE  \\\n",
            "480  0.269444 -0.484238  1.012424 -0.287469 -0.203885 -0.037345 -0.157579   \n",
            "351 -0.422225  2.195629 -1.433157 -0.287469 -1.253745  0.448530 -1.196918   \n",
            "248 -0.412004  0.498380 -0.811702 -0.287469 -1.080214  0.238032 -0.720554   \n",
            "216 -0.426307 -0.484238  0.385008  3.469455 -0.047707 -0.547730 -0.471546   \n",
            "429  0.692655 -0.484238  1.012424 -0.287469  1.071565  0.161618  0.957546   \n",
            "..        ...       ...       ...       ...       ...       ...       ...   \n",
            "30  -0.295642 -0.484238 -0.471914 -0.287469 -0.151826 -0.800039  0.903414   \n",
            "288 -0.426271  1.860645 -0.892178 -0.287469 -1.305804  0.067904 -0.846863   \n",
            "80  -0.426845  0.632373 -0.960732 -0.287469 -1.123597  0.661911 -1.283530   \n",
            "218 -0.418470 -0.484238  0.385008  3.469455 -0.047707 -0.456899  0.892587   \n",
            "20  -0.281075 -0.484238 -0.471914 -0.287469 -0.151826 -1.006211  1.047766   \n",
            "\n",
            "          DIS       RAD       TAX   PTRATIO         B     LSTAT  \n",
            "480 -0.179979  1.637051  1.520075  0.792646  0.444299 -0.284035  \n",
            "351  3.242045 -0.642730  0.004782 -0.065289  0.154748 -1.037962  \n",
            "248  1.887626 -0.300763 -0.476546  0.295946  0.198313 -0.459233  \n",
            "216 -0.326562 -0.528741 -0.797432 -0.923224  0.398849  0.113751  \n",
            "429 -0.863811  1.637051  1.520075  0.792646 -3.282401  1.631657  \n",
            "..        ...       ...       ...       ...       ...       ...  \n",
            "30   0.199886 -0.642730 -0.613220  1.153882  0.037131  1.419122  \n",
            "288  1.648425 -0.414752 -0.696412 -0.832915  0.444299 -0.734955  \n",
            "80   0.748313 -0.642730 -0.767720  0.250792  0.444299 -1.066683  \n",
            "218 -0.431203 -0.528741 -0.797432 -0.923224  0.444299  0.747050  \n",
            "20  -0.004466 -0.642730 -0.613220  1.153882  0.218932  1.192226  \n",
            "\n",
            "[379 rows x 13 columns]\n",
            "[22.32559367 -0.99047788  1.04281415  0.07682287  0.83346425 -1.70412058\n",
            "  2.11893376  0.36876608 -2.92204996  2.7885     -2.10990263 -2.09297919\n",
            "  0.95966424 -4.29725022]\n",
            "[452460.0762152777]\n",
            "[465948.22081549285]\n",
            "[ 3.88325794e+01 -1.19362776e-01  4.66625140e-02  1.22863643e-02\n",
            "  3.12828022e+00 -1.47920079e+01  3.05400282e+00  1.33532882e-02\n",
            " -1.37204643e+00  3.19368049e-01 -1.26313603e-02 -9.45100451e-01\n",
            "  1.06411765e-02 -6.17130734e-01]\n",
            "----------------------------\n",
            "         CRIM   ZN  INDUS  CHAS    NOX     RM    AGE     DIS  RAD    TAX  \\\n",
            "22    1.23247  0.0   8.14     0  0.538  6.142   91.7  3.9769    4  307.0   \n",
            "322   0.35114  0.0   7.38     0  0.493  6.041   49.9  4.7211    5  287.0   \n",
            "417  25.94060  0.0  18.10     0  0.679  5.304   89.1  1.6475   24  666.0   \n",
            "48    0.25387  0.0   6.91     0  0.448  5.399   95.3  5.8700    3  233.0   \n",
            "16    1.05393  0.0   8.14     0  0.538  5.935   29.3  4.4986    4  307.0   \n",
            "..        ...  ...    ...   ...    ...    ...    ...     ...  ...    ...   \n",
            "434  13.91340  0.0  18.10     0  0.713  6.208   95.0  2.2222   24  666.0   \n",
            "115   0.17134  0.0  10.01     0  0.547  5.928   88.2  2.4631    6  432.0   \n",
            "156   2.44668  0.0  19.58     0  0.871  5.272   94.0  1.7364    5  403.0   \n",
            "402   9.59571  0.0  18.10     0  0.693  6.404  100.0  1.6390   24  666.0   \n",
            "494   0.27957  0.0   9.69     0  0.585  5.926   42.6  2.3817    6  391.0   \n",
            "\n",
            "     PTRATIO       B  LSTAT  \n",
            "22      21.0  396.90  18.72  \n",
            "322     19.6  396.90   7.70  \n",
            "417     20.2  127.36  26.64  \n",
            "48      17.9  396.90  30.81  \n",
            "16      21.0  386.85   6.58  \n",
            "..       ...     ...    ...  \n",
            "434     20.2  100.63  15.17  \n",
            "115     17.8  344.91  15.76  \n",
            "156     14.7   88.63  16.14  \n",
            "402     20.2  376.11  20.31  \n",
            "494     19.2  396.90  13.59  \n",
            "\n",
            "[379 rows x 13 columns]\n",
            "         CRIM        ZN     INDUS      CHAS       NOX        RM       AGE  \\\n",
            "22  -0.280488 -0.458066 -0.478013 -0.265396 -0.157784 -0.169144  0.808787   \n",
            "322 -0.381392 -0.458066 -0.590046 -0.265396 -0.548531 -0.317089 -0.679898   \n",
            "417  2.548347 -0.458066  0.990203 -0.265396  1.066559 -1.396650  0.716189   \n",
            "48  -0.392528 -0.458066 -0.659329 -0.265396 -0.939279 -1.257493  0.936999   \n",
            "16  -0.300929 -0.458066 -0.478013 -0.265396 -0.157784 -0.472359 -1.413557   \n",
            "..        ...       ...       ...       ...       ...       ...       ...   \n",
            "434  1.171352 -0.458066  0.990203 -0.265396  1.361791 -0.072467  0.926315   \n",
            "115 -0.401977 -0.458066 -0.202354 -0.265396 -0.079634 -0.482612  0.684136   \n",
            "156 -0.141473 -0.458066  1.208372 -0.265396  2.733749 -1.443524  0.890700   \n",
            "402  0.677020 -0.458066  0.990203 -0.265396  1.188125  0.214634  1.104387   \n",
            "494 -0.389586 -0.458066 -0.249526 -0.265396  0.250331 -0.485542 -0.939884   \n",
            "\n",
            "          DIS       RAD       TAX   PTRATIO         B     LSTAT  \n",
            "22   0.130618 -0.631238 -0.601135  1.156079  0.438279  0.837817  \n",
            "322  0.504303 -0.516714 -0.719942  0.478795  0.438279 -0.713354  \n",
            "417 -1.039042  1.659227  1.531451  0.769060 -2.564252  1.952634  \n",
            "48   1.081199 -0.745761 -1.040722 -0.343620  0.438279  2.539602  \n",
            "16   0.392579 -0.631238 -0.601135  1.156079  0.326328 -0.871005  \n",
            "..        ...       ...       ...       ...       ...       ...  \n",
            "434 -0.750468  1.659227  1.531451  0.769060 -2.862009  0.338120  \n",
            "115 -0.629505 -0.402191  0.141409 -0.391997 -0.140861  0.421169  \n",
            "156 -0.994403 -0.516714 -0.030862 -1.891695 -2.995683  0.474657  \n",
            "402 -1.043310  1.659227  1.531451  0.769060  0.206690  1.061625  \n",
            "494 -0.670379 -0.402191 -0.102146  0.285286  0.438279  0.115720  \n",
            "\n",
            "[379 rows x 13 columns]\n",
            "[ 2.22216359e+01 -1.04584156e+00  9.60246703e-01 -5.73183964e-03\n",
            "  9.49897190e-01 -2.04817912e+00  2.38780141e+00 -1.35594192e-01\n",
            " -3.08646486e+00  2.87698713e+00 -2.28153063e+00 -2.12864445e+00\n",
            "  8.16299519e-01 -3.46938630e+00]\n",
            "[672053.9704720606]\n",
            "[662089.5398626865]\n",
            "[ 4.06344437e+01 -1.19774285e-01  4.27606829e-02 -6.60846133e-04\n",
            "  3.82107939e+00 -1.77867027e+01  3.49714137e+00 -4.81969263e-03\n",
            " -1.54977882e+00  3.29938217e-01 -1.35788510e-02 -1.02985492e+00\n",
            "  9.09358470e-03 -4.88378044e-01]\n",
            "----------------------------\n",
            "        CRIM    ZN  INDUS  CHAS    NOX     RM   AGE     DIS  RAD    TAX  \\\n",
            "18   0.80271   0.0   8.14     0  0.538  5.456  36.6  3.7965    4  307.0   \n",
            "70   0.08826   0.0  10.81     0  0.413  6.417   6.6  5.2873    4  305.0   \n",
            "370  6.53876   0.0  18.10     1  0.631  7.016  97.5  1.2024   24  666.0   \n",
            "295  0.12932   0.0  13.92     0  0.437  6.678  31.1  5.9604    4  289.0   \n",
            "2    0.02729   0.0   7.07     0  0.469  7.185  61.1  4.9671    2  242.0   \n",
            "..       ...   ...    ...   ...    ...    ...   ...     ...  ...    ...   \n",
            "305  0.05479  33.0   2.18     0  0.472  6.616  58.1  3.3700    7  222.0   \n",
            "114  0.14231   0.0  10.01     0  0.547  6.254  84.2  2.2565    6  432.0   \n",
            "22   1.23247   0.0   8.14     0  0.538  6.142  91.7  3.9769    4  307.0   \n",
            "274  0.05644  40.0   6.41     1  0.447  6.758  32.9  4.0776    4  254.0   \n",
            "154  1.41385   0.0  19.58     1  0.871  6.129  96.0  1.7494    5  403.0   \n",
            "\n",
            "     PTRATIO       B  LSTAT  \n",
            "18      21.0  288.99  11.69  \n",
            "70      19.2  383.73   6.72  \n",
            "370     20.2  392.05   2.96  \n",
            "295     16.0  396.90   6.27  \n",
            "2       17.8  392.83   4.03  \n",
            "..       ...     ...    ...  \n",
            "305     18.4  393.36   8.93  \n",
            "114     17.8  388.74  10.45  \n",
            "22      21.0  396.90  18.72  \n",
            "274     17.6  396.90   3.53  \n",
            "154     14.7  321.02  15.12  \n",
            "\n",
            "[379 rows x 13 columns]\n",
            "         CRIM        ZN     INDUS      CHAS       NOX        RM       AGE  \\\n",
            "18  -0.316447 -0.470215 -0.426697 -0.271035 -0.132445 -1.224429 -1.112008   \n",
            "70  -0.395698 -0.470215 -0.040597 -0.271035 -1.222028  0.197384 -2.167711   \n",
            "370  0.319831 -0.470215  1.013587  3.679823  0.678205  1.083614  1.031070   \n",
            "295 -0.391143 -0.470215  0.409131 -0.271035 -1.012828  0.583538 -1.305553   \n",
            "2   -0.402461 -0.470215 -0.581426 -0.271035 -0.733895  1.333652 -0.249850   \n",
            "..        ...       ...       ...       ...       ...       ...       ...   \n",
            "305 -0.399411  1.000948 -1.288554 -0.271035 -0.707745  0.491808 -0.355420   \n",
            "114 -0.389702 -0.470215 -0.156282 -0.271035 -0.053995 -0.043776  0.563042   \n",
            "22  -0.268775 -0.470215 -0.426697 -0.271035 -0.132445 -0.209482  0.826968   \n",
            "274 -0.399228  1.313013 -0.676867  3.679823 -0.925661  0.701899 -1.242211   \n",
            "154 -0.248655 -0.470215  1.227605  3.679823  2.770203 -0.228716  0.978285   \n",
            "\n",
            "          DIS       RAD       TAX   PTRATIO         B     LSTAT  \n",
            "18   0.000251 -0.615379 -0.577477  1.174560 -0.789528 -0.124028  \n",
            "70   0.697054 -0.615379 -0.589328  0.322492  0.289460 -0.815957  \n",
            "370 -1.212237  1.702998  1.549887  0.795863  0.384216 -1.339429  \n",
            "295  1.011662 -0.615379 -0.684141 -1.192295  0.439452 -0.878607  \n",
            "2    0.547391 -0.847217 -0.962654 -0.340228  0.393099 -1.190462  \n",
            "..        ...       ...       ...       ...       ...       ...  \n",
            "305 -0.199096 -0.267623 -1.081170 -0.056205  0.399135 -0.508278  \n",
            "114 -0.719549 -0.383542  0.163249 -0.340228  0.346518 -0.296662  \n",
            "22   0.084570 -0.615379 -0.577477  1.174560  0.439452  0.854697  \n",
            "274  0.131637 -0.615379 -0.891544 -0.434902  0.439452 -1.260073  \n",
            "154 -0.956568 -0.499461 -0.008599 -1.807678 -0.424740  0.353500  \n",
            "\n",
            "[379 rows x 13 columns]\n",
            "[22.60263852 -1.09354629  0.77488768  0.1199992   0.87491798 -1.87316664\n",
            "  3.19757107  0.09938661 -2.83619912  2.40859792 -1.66039493 -1.91832572\n",
            "  0.70131592 -3.74017156]\n",
            "[335369.26589069923]\n",
            "[309784.2773795316]\n",
            "[ 2.82415240e+01 -1.21317507e-01  3.45546688e-02  1.74620839e-02\n",
            "  3.45623534e+00 -1.63294437e+01  4.73061245e+00  3.50421167e-03\n",
            " -1.32559928e+00  2.79403270e-01 -9.85076093e-03 -9.08109832e-01\n",
            "  7.98735129e-03 -5.20730219e-01]\n"
          ]
        }
      ]
    },
    {
      "cell_type": "code",
      "source": [
        "norm = Normalizer()\n",
        "#norm.predict(X_test)"
      ],
      "metadata": {
        "id": "JBYlHTRjodA9"
      },
      "execution_count": 143,
      "outputs": []
    },
    {
      "cell_type": "markdown",
      "metadata": {
        "id": "7HVfnXvZFi98"
      },
      "source": [
        "## Exercise 2 - Ridge Linear Regression\n",
        "\n",
        "Recall that ridge regression is identical to OLS but with a L2 penalty over the weights:\n",
        "\n",
        "$L(y,\\hat{y})=\\sum_{i=1}^{i=N}{(y^{(i)}-\\hat{y}^{(i)})^2} + \\lambda \\left\\Vert w \\right\\Vert_2^2$\n",
        "\n",
        "where $y^{(i)}$ is the **true** value and $\\hat{y}^{(i)}$ is the **predicted** value of the $i_{th}$ example, and $N$ is the number of examples\n",
        "\n",
        "* Show, by differentiating the above loss, that the analytical solution is $w_{Ridge}=(X^TX+\\lambda I)^{-1}X^Ty$\n",
        "* Change `OrdinaryLinearRegression` and `OrdinaryLinearRegressionGradientDescent` classes to work also for ridge regression. Either add a parameter, or use inheritance.\n",
        "* **Bonus: Noise as a regularizer**: Show that OLS (ordinary least square), if one adds multiplicative noise to the features the **average** solution for $W$ is equivalent to Ridge regression. In other words, if $X'= X*G$ where $G$ is an uncorrelated noise with variance $\\sigma$ and mean 1, then solving for $X'$ with OLS is like solving Ridge for $X$. What is the interpretation?\n",
        "\n"
      ]
    },
    {
      "cell_type": "markdown",
      "source": [
        "$L = (Xw - y)^T(Xw - y) + λw^Tw → min$\n",
        "\n",
        "$∇_w L = X^T(Xw-y) + (Xw-y)^TX + λ(I^Tw + w^TI) = X^TXw-X^Ty + X^T(Xw-y) +λ(I^Tw+I^Tw) =$\n",
        "$= 2X^TXw-2X^Ty+2λI^Tw = 0$\n",
        "\n",
        "$(X^TX+λI^T)w = X^Ty$\n",
        "\n",
        "$w = (X^TX + λI^T)^{-1}X^Ty$\n",
        "\n",
        "$w = (X^TX + λI)^{-1}X^Ty$"
      ],
      "metadata": {
        "id": "joivmdaAFqc6"
      }
    },
    {
      "cell_type": "code",
      "execution_count": null,
      "metadata": {
        "id": "x4v0foNX1eiu"
      },
      "outputs": [],
      "source": [
        "class RidgeLs(Ols):\n",
        "  def __init__(self, ridge_lambda, *wargs, **kwargs):\n",
        "    super(RidgeLs,self).__init__(*wargs, **kwargs)\n",
        "    self.ridge_lambda = ridge_lambda\n",
        "\n",
        "  def _fit(self, X, Y):\n",
        "    #Closed form of ridge regression\n",
        "    pass"
      ]
    },
    {
      "cell_type": "markdown",
      "metadata": {
        "id": "fAj1Qxoc1eiu"
      },
      "source": [
        "### Use scikitlearn implementation for OLS, Ridge and Lasso"
      ]
    },
    {
      "cell_type": "code",
      "execution_count": null,
      "metadata": {
        "id": "GozQEKRw1eiu"
      },
      "outputs": [],
      "source": []
    }
  ],
  "metadata": {
    "colab": {
      "provenance": []
    },
    "kernelspec": {
      "display_name": "Python 3",
      "language": "python",
      "name": "python3"
    },
    "language_info": {
      "codemirror_mode": {
        "name": "ipython",
        "version": 3
      },
      "file_extension": ".py",
      "mimetype": "text/x-python",
      "name": "python",
      "nbconvert_exporter": "python",
      "pygments_lexer": "ipython3",
      "version": "3.7.3"
    }
  },
  "nbformat": 4,
  "nbformat_minor": 0
}