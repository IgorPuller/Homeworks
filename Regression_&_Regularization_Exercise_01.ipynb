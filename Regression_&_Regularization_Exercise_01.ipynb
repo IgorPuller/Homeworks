{
  "cells": [
    {
      "cell_type": "markdown",
      "metadata": {
        "id": "chEqqJbLzFew"
      },
      "source": [
        "# Ydata Data Science School\n",
        "## Linear Regression & Regularization Exercise.\n",
        "\n",
        "\n",
        "## Outline\n",
        "In this exercise you will learn the following topics:\n",
        "\n",
        "1. Refresher on how linear regression is solved in batch and in Gradient Descent\n",
        "2. Implementation of Ridge Regression\n",
        "3. Comparing Ridge, Lasso and vanila Linear Regression on a dataset"
      ]
    },
    {
      "cell_type": "markdown",
      "metadata": {
        "id": "mR9UFmk2greT"
      },
      "source": [
        "## Refresher on Ordinary Least Square (OLS) aka Linear Regeression\n",
        "\n",
        "### Lecture Note\n",
        "\n",
        "In Matrix notation, the matrix $X$ is of dimensions $n \\times p$ where each row is an example and each column is a feature dimension.\n",
        "\n",
        "Similarily, $y$ is of dimension $n \\times 1$ and $w$ is of dimensions $p \\times 1$.\n",
        "\n",
        "The model is $\\hat{y}=X\\cdot w$ where we assume for simplicity that $X$'s first columns equals to 1 (one padding), to account for the bias term.\n",
        "\n",
        "Our objective is to optimize the loss $L$ defines as resiudal sum of squares (RSS):\n",
        "\n",
        "$L_{RSS}=\\frac{1}{N}\\left\\Vert Xw-y \\right\\Vert^2$ (notice that in matrix notation this means summing over all examples, so $L$ is scalar.)\n",
        "\n",
        "To find the optimal $w$ one needs to derive the loss with respect to $w$.\n",
        "\n",
        "$\\frac{\\partial{L_{RSS}}}{\\partial{w}}=\\frac{2}{N}X^T(Xw-y)$ (to see why, read about [matrix derivatives](http://www.gatsby.ucl.ac.uk/teaching/courses/sntn/sntn-2017/resources/Matrix_derivatives_cribsheet.pdf) or see class notes )\n",
        "\n",
        "Thus, the gardient descent solution is $w'=w-\\alpha \\frac{2}{N}X^T(Xw-y)$.\n",
        "\n",
        "Solving $\\frac{\\partial{L_{RSS}}}{\\partial{w}}=0$ for $w$ one can also get analytical solution:\n",
        "\n",
        "$w_{OLS}=(X^TX)^{-1}X^Ty$\n",
        "\n",
        "The first term, $(X^TX)^{-1}X^T$ is also called the pseudo inverse of $X$.\n",
        "\n",
        "See [lecture note from Stanford](https://web.stanford.edu/~mrosenfe/soc_meth_proj3/matrix_OLS_NYU_notes.pdf) for more details.\n"
      ]
    },
    {
      "cell_type": "markdown",
      "metadata": {
        "id": "JA3MEKz80vdy"
      },
      "source": [
        "## Exercise 1 - Ordinary Least Square\n",
        "* Get the boston housing dataset https://www.cs.toronto.edu/~delve/data/boston/bostonDetail.html\n",
        "\n",
        "* What is $p$? what is $n$ in the above notation? hint: [shape](https://docs.scipy.org/doc/numpy-1.15.0/reference/generated/numpy.ndarray.shape.html)\n",
        "\n",
        "* write a model `OrdinaryLinearRegression` which has a propoery $w$ and 3 methods: `fit`, `predict` and `score` (which returns the MSE on a given sample set). Hint: use [numpy.linalg.pinv](https://docs.scipy.org/doc/numpy-1.15.1/reference/generated/numpy.linalg.pinv.html) to be more efficient.\n",
        "\n",
        "* Fit the model. What is the training MSE?\n",
        "\n",
        "* Plot a scatter plot where on x-axis plot $Y$ and in the y-axis $\\hat{Y}_{OLS}$\n",
        "\n",
        "* Split the data to 75% train and 25% test 20 times. What is the average MSE now for train and test? Hint: use [train_test_split](http://scikit-learn.org/stable/modules/generated/sklearn.model_selection.train_test_split.html) or [ShuffleSplit](http://scikit-learn.org/stable/modules/generated/sklearn.model_selection.ShuffleSplit.html).\n",
        "\n",
        "* Use a t-test to proove that the MSE for training is significantly smaller than for testing. What is the p-value? Hint: use [scipy.stats.ttest_rel](https://docs.scipy.org/doc/scipy-0.14.0/reference/generated/scipy.stats.ttest_rel.html).\n",
        "\n",
        "* Write a new class `OrdinaryLinearRegressionGradientDescent` which inherits from `OrdinaryLinearRegression` and solves the problem using gradinet descent. The class should get as a parameter the learning rate and number of iteration. Plot the class convergance. What is the effect of learning rate? How would you find number of iteration automatically? Note: Gradient Descent does not work well when features are not scaled evenly (why?!). Be sure to normalize your features first.\n",
        "\n",
        "* The following parameters are optional (not mandatory to use):\n",
        "    * early_stop - True / False boolean to indicate to stop running when loss stops decaying and False to continue.\n",
        "    * verbose- True/False boolean to turn on / off logging, e.g. print details like iteration number and loss (https://en.wikipedia.org/wiki/Verbose_mode)\n",
        "    * track_loss - True / False boolean when to save loss results to present later in learning curve graphs"
      ]
    },
    {
      "cell_type": "code",
      "execution_count": 20,
      "metadata": {
        "id": "ZuSS8LhcfZdn"
      },
      "outputs": [],
      "source": [
        "# * write a model `Ols` which has a propoery $w$ and 3 methods: `fit`, `predict` and `score`.? hint: use [numpy.linalg.pinv](https://docs.scipy.org/doc/numpy-1.15.1/reference/generated/numpy.linalg.pinv.html) to be more efficient.\n",
        "import numpy as np\n",
        "class Ols(object):\n",
        "  def __init__(self):\n",
        "    self.w = None\n",
        "\n",
        "  @staticmethod\n",
        "  def pad(X):\n",
        "    pass\n",
        "\n",
        "  def fit(self, X, Y):\n",
        "    #remeber pad with 1 before fitting\n",
        "    self.X = X\n",
        "    self.Y = Y\n",
        "    self.w = (np.linalg.pinv(X.T@X))@X.T@Y\n",
        "\n",
        "\n",
        "  def _fit(self, X, Y):\n",
        "    # optional to use this\n",
        "    pass\n",
        "\n",
        "  def predict(self, X):\n",
        "    #return wx\n",
        "    w = self.w\n",
        "    #w = w[:,None]\n",
        "    w = np.expand_dims(w,axis=-1)\n",
        "    return X@w\n",
        "\n",
        "  def _predict(self, X):\n",
        "    # optional to use this\n",
        "    pass\n",
        "\n",
        "  def score(self, X, Y):\n",
        "    #return MSE\n",
        "    #w = self.w[:,np.newaxis]\n",
        "    w = self.w\n",
        "    #w = w[:,None]\n",
        "    w = np.expand_dims(w,axis=-1)\n",
        "    return np.sum((X@w-Y)**2)[0]/Y.size"
      ]
    },
    {
      "cell_type": "code",
      "source": [
        "import pandas as pd\n",
        "np.random.seed(42)\n",
        "data = pd.read_csv('/content/Boston-house-price-data.csv')\n",
        "data.head()\n",
        "X = data.iloc[:,:-1]\n",
        "Y = data.iloc[:,-1]"
      ],
      "metadata": {
        "id": "hx3ar6H7N0uW"
      },
      "execution_count": 21,
      "outputs": []
    },
    {
      "cell_type": "code",
      "source": [
        "from sklearn.model_selection import train_test_split\n",
        "X_train, X_test, Y_train, Y_test = train_test_split(X, Y, test_size=0.3, random_state=42)\n",
        "model = Ols();\n",
        "model.fit(X_train,Y_train);\n",
        "model.predict(X_test);\n",
        "model.score(X_train,Y_train);\n",
        "model.score(X_test,Y_test)\n"
      ],
      "metadata": {
        "colab": {
          "base_uri": "https://localhost:8080/"
        },
        "id": "YvPmt-zjPSgq",
        "outputId": "bdb379aa-4a16-41eb-a62a-62db28b627f4"
      },
      "execution_count": 22,
      "outputs": [
        {
          "output_type": "execute_result",
          "data": {
            "text/plain": [
              "73.28042565487205"
            ]
          },
          "metadata": {},
          "execution_count": 22
        }
      ]
    },
    {
      "cell_type": "code",
      "source": [
        "import matplotlib.pyplot as plt\n",
        "plt.scatter(Y_test, model.predict(X_test));\n"
      ],
      "metadata": {
        "colab": {
          "base_uri": "https://localhost:8080/",
          "height": 430
        },
        "id": "O4eS4JUVdeEn",
        "outputId": "edc94471-bca3-4982-b19e-ad4ed5f3af62"
      },
      "execution_count": 23,
      "outputs": [
        {
          "output_type": "display_data",
          "data": {
            "text/plain": [
              "<Figure size 640x480 with 1 Axes>"
            ],
            "image/png": "[encoded data removed]"
          },
          "metadata": {}
        }
      ]
    },
    {
      "cell_type": "code",
      "source": [
        "mse_train = []\n",
        "mse_test = []\n",
        "for i in range(20):\n",
        "  X_train, X_test, Y_train, Y_test = train_test_split(X, Y, test_size=0.25)\n",
        "  model = Ols();\n",
        "  model.fit(X_train,Y_train);\n",
        "  model.predict(X_test);\n",
        "  mse_train.append(model.score(X_train,Y_train))\n",
        "  mse_test.append(model.score(X_test,Y_test))\n",
        "\n",
        "mse_test,mse_train\n"
      ],
      "metadata": {
        "colab": {
          "base_uri": "https://localhost:8080/"
        },
        "id": "oP2LKhKkeXPR",
        "outputId": "5a08c711-145b-49d5-d0a4-4a065aa464be"
      },
      "execution_count": 24,
      "outputs": [
        {
          "output_type": "execute_result",
          "data": {
            "text/plain": [
              "([75.66791446930783,\n",
              "  0.0,\n",
              "  0.0,\n",
              "  0.0,\n",
              "  0.0,\n",
              "  75.5320325471092,\n",
              "  0.0,\n",
              "  0.0,\n",
              "  0.0,\n",
              "  0.0,\n",
              "  0.0,\n",
              "  68.62895573868218,\n",
              "  0.0,\n",
              "  0.0,\n",
              "  0.0,\n",
              "  0.0,\n",
              "  0.0,\n",
              "  0.0,\n",
              "  57.3971974292682,\n",
              "  0.0],\n",
              " [0.0,\n",
              "  67.50807591510454,\n",
              "  65.81225010060511,\n",
              "  67.50126343122886,\n",
              "  68.78546089709477,\n",
              "  0.0,\n",
              "  68.41900797598498,\n",
              "  65.0656558564397,\n",
              "  63.32496939847582,\n",
              "  62.368632307752506,\n",
              "  62.74919526601235,\n",
              "  0.0,\n",
              "  61.35768616298889,\n",
              "  65.97859701410773,\n",
              "  64.18719422806102,\n",
              "  63.51956800469107,\n",
              "  60.2222362291116,\n",
              "  61.25771952935267,\n",
              "  0.0,\n",
              "  69.53851401111271])"
            ]
          },
          "metadata": {},
          "execution_count": 24
        }
      ]
    },
    {
      "cell_type": "code",
      "source": [
        "from scipy import stats\n",
        "stats.ttest_rel(mse_train, mse_test)"
      ],
      "metadata": {
        "colab": {
          "base_uri": "https://localhost:8080/"
        },
        "id": "xyGF5ldIgWzL",
        "outputId": "c33c5a46-ed91-4907-f845-7960df85f5aa"
      },
      "execution_count": 25,
      "outputs": [
        {
          "output_type": "execute_result",
          "data": {
            "text/plain": [
              "TtestResult(statistic=3.0788341292836856, pvalue=0.0061797062557292564, df=19)"
            ]
          },
          "metadata": {},
          "execution_count": 25
        }
      ]
    },
    {
      "cell_type": "code",
      "execution_count": 27,
      "metadata": {
        "id": "B689kXfa1eit"
      },
      "outputs": [],
      "source": [
        "# Write a new class OlsGd which solves the problem using gradinet descent.\n",
        "# The class should get as a parameter the learning rate and number of iteration.\n",
        "# Plot the loss convergance. for each alpha, learning rate plot the MSE with respect to number of iterations.\n",
        "# What is the effect of learning rate?\n",
        "# How would you find number of iteration automatically?\n",
        "# Note: Gradient Descent does not work well when features are not scaled evenly (why?!). Be sure to normalize your feature first.\n",
        "class Normalizer():\n",
        "  def __init__(self):\n",
        "    pass\n",
        "\n",
        "  def fit(self, X):\n",
        "    self.X_min = X.T.min(axis=1)\n",
        "    self.X_max = X.T.max(axis=1)\n",
        "\n",
        "\n",
        "  def predict(self, X):\n",
        "    #apply normalization\n",
        "    return (X-self.X_min)/(self.X_max - self.X_min)\n",
        "\n",
        "class OlsGd(Ols):\n",
        "\n",
        "  def __init__(self, learning_rate=.05,\n",
        "               num_iteration=1000,\n",
        "               normalize=True,\n",
        "               early_stop=True,\n",
        "               verbose=True):\n",
        "\n",
        "    super(OlsGd, self).__init__()\n",
        "    self.learning_rate = learning_rate\n",
        "    self.num_iteration = num_iteration\n",
        "    self.early_stop = early_stop\n",
        "    self.normalize = normalize\n",
        "    self.normalizer = Normalizer()\n",
        "    self.verbose = verbose\n",
        "\n",
        "  def _fit(self, X, Y, reset=True, track_loss=True):\n",
        "    #remeber to normalize the data before starting\n",
        "    self.X = X\n",
        "    self.Y = Y\n",
        "    norm = Normalizer()\n",
        "    norm.fit(X)\n",
        "    X = norm.predict(X)\n",
        "    num_iter=0\n",
        "    w = np.ones(X.shape[1])\n",
        "    for i in range(self.num_iteration):\n",
        "      L_gradient = -2 * (X.T@X@w - X.T@Y)\n",
        "      w = w - (self.learning_rate * L_gradient)\n",
        "    self.w = w\n",
        "\n",
        "  def _predict(self, X):\n",
        "    #remeber to normalize the data before starting\n",
        "    norm = Normalizer()\n",
        "    norm.fit(self.X)\n",
        "    X = norm.predict(X)\n",
        "    w = self.w\n",
        "    w = np.expand_dims(w,axis=-1)\n",
        "    return X@w\n",
        "\n",
        "  def _step(self, X, Y):\n",
        "    # use w update for gradient descent\n",
        "    pass\n"
      ]
    },
    {
      "cell_type": "code",
      "source": [
        "mse_train = []\n",
        "mse_test = []\n",
        "for i in range(20):\n",
        "  X_train, X_test, Y_train, Y_test = train_test_split(X, Y, test_size=0.25)\n",
        "  model = OlsGd(learning_rate=.05, num_iteration=2000);\n",
        "  model.fit(X_train,Y_train);\n",
        "  model.predict(X_test);\n",
        "  mse_train.append(model.score(X_train,Y_train))\n",
        "  mse_test.append(model.score(X_test,Y_test))\n",
        "\n",
        "mse_test,mse_train"
      ],
      "metadata": {
        "colab": {
          "base_uri": "https://localhost:8080/"
        },
        "id": "gkHwrVH_8Up2",
        "outputId": "ab785ad0-d719-485b-d32d-b02ac36d0cc6"
      },
      "execution_count": 30,
      "outputs": [
        {
          "output_type": "execute_result",
          "data": {
            "text/plain": [
              "([0.0,\n",
              "  0.0,\n",
              "  0.0,\n",
              "  56.48683087790454,\n",
              "  0.0,\n",
              "  0.0,\n",
              "  0.0,\n",
              "  0.0,\n",
              "  0.0,\n",
              "  0.0,\n",
              "  0.0,\n",
              "  70.21108254484984,\n",
              "  0.0,\n",
              "  0.0,\n",
              "  0.0,\n",
              "  79.45176157911237,\n",
              "  0.0,\n",
              "  0.0,\n",
              "  0.0,\n",
              "  0.0],\n",
              " [63.68405892573148,\n",
              "  59.35879592495782,\n",
              "  63.32585508274068,\n",
              "  0.0,\n",
              "  65.98394950140782,\n",
              "  67.6187522769557,\n",
              "  63.88848149267743,\n",
              "  71.43196465622063,\n",
              "  67.65468329420494,\n",
              "  66.47402533906596,\n",
              "  61.73310404029266,\n",
              "  0.0,\n",
              "  64.02424773976158,\n",
              "  65.58462560815931,\n",
              "  66.58862417922568,\n",
              "  0.0,\n",
              "  59.07869864172104,\n",
              "  66.34661683390088,\n",
              "  60.506545225618275,\n",
              "  64.12069811513582])"
            ]
          },
          "metadata": {},
          "execution_count": 30
        }
      ]
    },
    {
      "cell_type": "code",
      "source": [
        "norm = Normalizer()\n",
        "#norm.predict(X_test)"
      ],
      "metadata": {
        "id": "JBYlHTRjodA9"
      },
      "execution_count": 119,
      "outputs": []
    },
    {
      "cell_type": "markdown",
      "metadata": {
        "id": "7HVfnXvZFi98"
      },
      "source": [
        "## Exercise 2 - Ridge Linear Regression\n",
        "\n",
        "Recall that ridge regression is identical to OLS but with a L2 penalty over the weights:\n",
        "\n",
        "$L(y,\\hat{y})=\\sum_{i=1}^{i=N}{(y^{(i)}-\\hat{y}^{(i)})^2} + \\lambda \\left\\Vert w \\right\\Vert_2^2$\n",
        "\n",
        "where $y^{(i)}$ is the **true** value and $\\hat{y}^{(i)}$ is the **predicted** value of the $i_{th}$ example, and $N$ is the number of examples\n",
        "\n",
        "* Show, by differentiating the above loss, that the analytical solution is $w_{Ridge}=(X^TX+\\lambda I)^{-1}X^Ty$\n",
        "* Change `OrdinaryLinearRegression` and `OrdinaryLinearRegressionGradientDescent` classes to work also for ridge regression. Either add a parameter, or use inheritance.\n",
        "* **Bonus: Noise as a regularizer**: Show that OLS (ordinary least square), if one adds multiplicative noise to the features the **average** solution for $W$ is equivalent to Ridge regression. In other words, if $X'= X*G$ where $G$ is an uncorrelated noise with variance $\\sigma$ and mean 1, then solving for $X'$ with OLS is like solving Ridge for $X$. What is the interpretation?\n",
        "\n"
      ]
    },
    {
      "cell_type": "markdown",
      "source": [
        "$L = (Xw - y)^T(Xw - y) + λw^Tw → min$\n",
        "\n",
        "$∇_w L = X^T(Xw-y) + (Xw-y)^TX + λ(I^Tw + w^TI) = X^TXw-X^Ty + X^T(Xw-y) +λ(I^Tw+I^Tw) =$\n",
        "$= 2X^TXw-2X^Ty+2λI^Tw = 0$\n",
        "\n",
        "$(X^TX+λI^T)w = X^Ty$\n",
        "\n",
        "$w = (X^TX + λI^T)^{-1}X^Ty$\n",
        "\n",
        "$w = (X^TX + λI)^{-1}X^Ty$"
      ],
      "metadata": {
        "id": "joivmdaAFqc6"
      }
    },
    {
      "cell_type": "code",
      "execution_count": null,
      "metadata": {
        "id": "x4v0foNX1eiu"
      },
      "outputs": [],
      "source": [
        "class RidgeLs(Ols):\n",
        "  def __init__(self, ridge_lambda, *wargs, **kwargs):\n",
        "    super(RidgeLs,self).__init__(*wargs, **kwargs)\n",
        "    self.ridge_lambda = ridge_lambda\n",
        "\n",
        "  def _fit(self, X, Y):\n",
        "    #Closed form of ridge regression\n",
        "    pass"
      ]
    },
    {
      "cell_type": "markdown",
      "metadata": {
        "id": "fAj1Qxoc1eiu"
      },
      "source": [
        "### Use scikitlearn implementation for OLS, Ridge and Lasso"
      ]
    },
    {
      "cell_type": "code",
      "execution_count": null,
      "metadata": {
        "id": "GozQEKRw1eiu"
      },
      "outputs": [],
      "source": []
    }
  ],
  "metadata": {
    "colab": {
      "provenance": []
    },
    "kernelspec": {
      "display_name": "Python 3",
      "language": "python",
      "name": "python3"
    },
    "language_info": {
      "codemirror_mode": {
        "name": "ipython",
        "version": 3
      },
      "file_extension": ".py",
      "mimetype": "text/x-python",
      "name": "python",
      "nbconvert_exporter": "python",
      "pygments_lexer": "ipython3",
      "version": "3.7.3"
    }
  },
  "nbformat": 4,
  "nbformat_minor": 0
}